{
 "cells": [
  {
   "cell_type": "markdown",
   "id": "4209a0be",
   "metadata": {},
   "source": [
    "## What is Graph Data Structure\n",
    "\n",
    "Graph is a non-linear data structure consisting of vertices and edges. The vertices are sometimes also referred to as nodes and the edges are lines or arcs that connect any two nodes in the graph. More formally a Graph is composed of a set of vertices( V ) and a set of edges( E ). The graph is denoted by G(V, E).\n",
    "\n",
    "\n",
    "## Components of a Graph:\n",
    "\n",
    "- Vertices: Vertices are the fundamental units of the graph. Sometimes, vertices are also known as vertex or nodes. Every node/vertex can be labeled or unlabeled.\n",
    "\n",
    "- Edges: Edges are drawn or used to connect two nodes of the graph. It can be ordered pair of nodes in a directed graph. Edges can connect any two nodes in any possible way. There are no rules. Sometimes, edges are also known as arcs. Every edge can be labelled/unlabelled.\n",
    "\n",
    "\n",
    "## Representations of Graph\n",
    "\n",
    "- [Adjacency Matrix](https://media.geeksforgeeks.org/wp-content/uploads/20230727130331/Undirected_to_Adjacency_matrix.png)\n",
    "- [Adjacency List](https://media.geeksforgeeks.org/wp-content/uploads/20230727155209/Graph-Representation-of-Directed-graph-to-Adjacency-List.png)"
   ]
  },
  {
   "cell_type": "code",
   "execution_count": 7,
   "id": "88cc8237",
   "metadata": {},
   "outputs": [
    {
     "name": "stdout",
     "output_type": "stream",
     "text": [
      "0 ->1  \n",
      "1 ->2  \n",
      "2 ->\n"
     ]
    }
   ],
   "source": [
    "# Function to add edges\n",
    "def addEdge(adj, u, v):\n",
    "    adj[u].append(v)\n",
    "\n",
    "def adjacencylist(adj, V):\n",
    "     \n",
    "    for i in range (0, V):\n",
    "        print(i, \"->\", end=\"\")\n",
    "         \n",
    "        for x in  adj[i]: \n",
    "            print(x , \" \", end=\"\")\n",
    "       \n",
    "        print()\n",
    "        \n",
    "def initGraph(V, edges, noOfEdges):\n",
    " \n",
    "    adj = [0]* 3\n",
    "     \n",
    "    for i in range(0, len(adj)):\n",
    "        adj[i] = []\n",
    "   \n",
    "    # Traverse edges array and make edges\n",
    "    for i in range(0, noOfEdges) :\n",
    " \n",
    "         # Function call to make an edge\n",
    "        addEdge(adj, edges[i][0], edges[i][1])\n",
    "     \n",
    " \n",
    "    # Function Call to print adjacency list\n",
    "    adjacencylist(adj, V)\n",
    "   \n",
    "# Driver Code\n",
    "   \n",
    "# Given vertices\n",
    "V = 3\n",
    " \n",
    "# Given edges\n",
    "edges =  [[0, 1 ],  [1, 2 ],  [2, 0 ]] \n",
    " \n",
    "noOfEdges = 2;\n",
    " \n",
    "# Function Call\n",
    "initGraph(V, edges, noOfEdges)"
   ]
  },
  {
   "cell_type": "code",
   "execution_count": 4,
   "id": "b3c4890f",
   "metadata": {},
   "outputs": [
    {
     "data": {
      "text/plain": [
       "3"
      ]
     },
     "execution_count": 4,
     "metadata": {},
     "output_type": "execute_result"
    }
   ],
   "source": [
    "V"
   ]
  },
  {
   "cell_type": "code",
   "execution_count": null,
   "id": "1a63c468",
   "metadata": {},
   "outputs": [],
   "source": []
  },
  {
   "cell_type": "code",
   "execution_count": null,
   "id": "df7a3cdb",
   "metadata": {},
   "outputs": [],
   "source": []
  },
  {
   "cell_type": "code",
   "execution_count": null,
   "id": "03841139",
   "metadata": {},
   "outputs": [],
   "source": []
  },
  {
   "cell_type": "code",
   "execution_count": null,
   "id": "04e9ed38",
   "metadata": {},
   "outputs": [],
   "source": []
  },
  {
   "cell_type": "code",
   "execution_count": null,
   "id": "fe3a7083",
   "metadata": {},
   "outputs": [],
   "source": []
  },
  {
   "cell_type": "markdown",
   "id": "504bd671",
   "metadata": {},
   "source": [
    "## References:  \n",
    "- https://www.geeksforgeeks.org/graph-data-structure-and-algorithms/"
   ]
  }
 ],
 "metadata": {
  "kernelspec": {
   "display_name": "Python 3 (ipykernel)",
   "language": "python",
   "name": "python3"
  },
  "language_info": {
   "codemirror_mode": {
    "name": "ipython",
    "version": 3
   },
   "file_extension": ".py",
   "mimetype": "text/x-python",
   "name": "python",
   "nbconvert_exporter": "python",
   "pygments_lexer": "ipython3",
   "version": "3.9.7"
  }
 },
 "nbformat": 4,
 "nbformat_minor": 5
}
