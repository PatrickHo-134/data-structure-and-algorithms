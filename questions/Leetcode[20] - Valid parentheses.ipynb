{
 "cells": [
  {
   "cell_type": "markdown",
   "metadata": {},
   "source": [
    "## Problem Description - [Valid Parentheses](https://leetcode.com/problems/valid-parentheses/description/?difficulty=EASY&page=1)\n",
    "\n",
    "Given a string `s` containing just the characters `'('`, `')'`, `'{'`, `'}'`, `'['` and `']'`, determine if the input string is valid.\n",
    "\n",
    "An input string is valid if:\n",
    "\n",
    "1.  Open brackets must be closed by the same type of brackets.\n",
    "2.  Open brackets must be closed in the correct order.\n",
    "3.  Every close bracket has a corresponding open bracket of the same type.\n",
    "\n",
    "### Example 1:\n",
    "\n",
    "Input: s = \"()\"\n",
    "\n",
    "Output: true\n",
    "\n",
    "### Example 2:\n",
    "\n",
    "Input: s = \"()[]{}\"\n",
    "\n",
    "Output: true\n",
    "\n",
    "### Example 3:\n",
    "\n",
    "Input: s = \"(]\"\n",
    "\n",
    "Output: false\n",
    "\n",
    "### Example 4:\n",
    "\n",
    "Input: s = \"([])\"\n",
    "\n",
    "Output: true\n",
    "\n",
    "### Example 5:\n",
    "\n",
    "Input: s = \"([)]\"\n",
    "\n",
    "Output: false\n",
    "\n",
    "### Constraints:\n",
    "\n",
    "-   `1 <= s.length <= 104`\n",
    "-   `s` consists of parentheses only `'()[]{}'`."
   ]
  },
  {
   "cell_type": "markdown",
   "metadata": {},
   "source": [
    "### Assumptions:\n",
    "- Order of parentheses doesn't not matter. For example, '({[' or '[{('. They could be in any order"
   ]
  },
  {
   "cell_type": "code",
   "execution_count": null,
   "metadata": {},
   "outputs": [],
   "source": [
    "from typing import List\n",
    "\n",
    "def is_opening_bracket(s):\n",
    "     return s == \"(\" or s == \"[\" or s == \"{\"\n",
    "\n",
    "def is_closing_bracket(s):\n",
    "     return s == \")\" or s == \"]\" or s == \"}\"\n",
    "\n",
    "def matching_brackets(s1, s2):\n",
    "     joined_brackets = s1 + s2\n",
    "     return joined_brackets in [\"()\", \"[]\", \"{}\"]\n",
    "\n",
    "class Solution:\n",
    "     def isValid(self, s: str) -> bool:\n",
    "          check_stack = []\n",
    "\n",
    "          for c in s:\n",
    "               if is_closing_bracket(c) and len(check_stack) > 0:\n",
    "                    last_char = check_stack[-1]\n",
    "\n",
    "                    if matching_brackets(last_char, c):\n",
    "                         check_stack.pop()\n",
    "                    else:\n",
    "                         break\n",
    "               else:\n",
    "                    check_stack.append(c)\n",
    "\n",
    "          return len(check_stack) == 0\n"
   ]
  },
  {
   "cell_type": "code",
   "execution_count": 34,
   "metadata": {},
   "outputs": [
    {
     "name": "stderr",
     "output_type": "stream",
     "text": [
      ".\n",
      "----------------------------------------------------------------------\n",
      "Ran 1 test in 0.009s\n",
      "\n",
      "OK\n"
     ]
    },
    {
     "data": {
      "text/plain": [
       "<unittest.runner.TextTestResult run=1 errors=0 failures=0>"
      ]
     },
     "execution_count": 34,
     "metadata": {},
     "output_type": "execute_result"
    }
   ],
   "source": [
    "import unittest\n",
    "\n",
    "case1 = \"()\"\n",
    "case2 = \"()[]{}\"\n",
    "case3 = \"(]\"\n",
    "case4 = \"([])\"\n",
    "case5 = \"([)]\"\n",
    "case6 = \"(])\"\n",
    "\n",
    "expectedOutput1 = True\n",
    "expectedOutput2 = True\n",
    "expectedOutput3 = False\n",
    "expectedOutput4 = True\n",
    "expectedOutput5 = False\n",
    "expectedOutput6 = False\n",
    "\n",
    "class TestSolution(unittest.TestCase):\n",
    "     def test_merge(self):\n",
    "          solution = Solution()\n",
    "          self.assertEqual(solution.isValid(case1), expectedOutput1)\n",
    "          self.assertEqual(solution.isValid(case2), expectedOutput2)\n",
    "          self.assertEqual(solution.isValid(case3), expectedOutput3)\n",
    "          self.assertEqual(solution.isValid(case4), expectedOutput4)\n",
    "          self.assertEqual(solution.isValid(case5), expectedOutput5)\n",
    "          self.assertEqual(solution.isValid(case6), expectedOutput6)\n",
    "\n",
    "unittest.TextTestRunner().run(unittest.TestLoader().loadTestsFromTestCase(TestSolution))"
   ]
  },
  {
   "cell_type": "code",
   "execution_count": null,
   "metadata": {},
   "outputs": [],
   "source": []
  }
 ],
 "metadata": {
  "kernelspec": {
   "display_name": "Python 3 (ipykernel)",
   "language": "python",
   "name": "python3"
  },
  "language_info": {
   "codemirror_mode": {
    "name": "ipython",
    "version": 3
   },
   "file_extension": ".py",
   "mimetype": "text/x-python",
   "name": "python",
   "nbconvert_exporter": "python",
   "pygments_lexer": "ipython3",
   "version": "3.9.7"
  }
 },
 "nbformat": 4,
 "nbformat_minor": 2
}
