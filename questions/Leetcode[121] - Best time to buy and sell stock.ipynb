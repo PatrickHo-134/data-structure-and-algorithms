{
 "cells": [
  {
   "cell_type": "markdown",
   "metadata": {},
   "source": [
    "# Problem 121 - [Best Time to Buy and Sell Stock](https://leetcode.com/problems/best-time-to-buy-and-sell-stock/description/)\n",
    "\n",
    "You are given an array `prices` where `prices[i]` is the price of a given stock on the `ith` day.\n",
    "\n",
    "You want to maximize your profit by choosing a single day to buy one stock and choosing a different day in the future to sell that stock.\n",
    "\n",
    "Return *the maximum profit you can achieve from this transaction*. If you cannot achieve any profit, return `0`.\n",
    "\n",
    "### Example 1:\n",
    "\n",
    "- Input: prices = [7,1,5,3,6,4]\n",
    "- Output: 5\n",
    "\n",
    "Explanation: Buy on day 2 (price = 1) and sell on day 5 (price = 6), profit = 6-1 = 5.\n",
    "\n",
    "Note that buying on day 2 and selling on day 1 is not allowed because you must buy before you sell.\n",
    "\n",
    "### Example 2:\n",
    "\n",
    "- Input: prices = [7,6,4,3,1]\n",
    "- Output: 0\n",
    "\n",
    "Explanation: In this case, no transactions are done and the max profit = 0.\n",
    "\n",
    "Constraints:\n",
    "-   `1 <= prices.length <= 105`\n",
    "-   `0 <= prices[i] <= 104`\n",
    "\n"
   ]
  },
  {
   "cell_type": "code",
   "execution_count": 61,
   "metadata": {},
   "outputs": [],
   "source": [
    "class Solution:\n",
    "    def maxProfit(self, prices: List[int]) -> int:\n",
    "        \"\"\"\n",
    "        Calculates the maximum profit using a single pass (O(n) time complexity).\n",
    "        \"\"\"\n",
    "        if len(prices) <= 1:\n",
    "            return 0\n",
    "\n",
    "        min_price = prices[0]\n",
    "        max_profit = 0\n",
    "\n",
    "        for p in prices:\n",
    "            if p < min_price:\n",
    "                min_price = p\n",
    "            else:\n",
    "                profit = p - min_price\n",
    "\n",
    "                if profit > max_profit:\n",
    "                    max_profit = profit\n",
    "\n",
    "        return max_profit"
   ]
  },
  {
   "cell_type": "code",
   "execution_count": 62,
   "metadata": {},
   "outputs": [
    {
     "name": "stderr",
     "output_type": "stream",
     "text": [
      ".\n",
      "----------------------------------------------------------------------\n",
      "Ran 1 test in 0.004s\n",
      "\n",
      "OK\n"
     ]
    },
    {
     "data": {
      "text/plain": [
       "<unittest.runner.TextTestResult run=1 errors=0 failures=0>"
      ]
     },
     "execution_count": 62,
     "metadata": {},
     "output_type": "execute_result"
    }
   ],
   "source": [
    "import unittest\n",
    "\n",
    "prices_1 = [7,1,5,3,6,4]\n",
    "prices_2 = [7,6,4,3,1]\n",
    "\n",
    "max_profit_1 = 5\n",
    "max_profit_2 = 0\n",
    "\n",
    "class TestSolution(unittest.TestCase):\n",
    "     def test_merge(self):\n",
    "          solution = Solution()\n",
    "          self.assertEqual(solution.maxProfit(prices_1), max_profit_1)\n",
    "          self.assertEqual(solution.maxProfit(prices_2), max_profit_2)\n",
    "\n",
    "unittest.TextTestRunner().run(unittest.TestLoader().loadTestsFromTestCase(TestSolution))"
   ]
  }
 ],
 "metadata": {
  "kernelspec": {
   "display_name": "Python 3 (ipykernel)",
   "language": "python",
   "name": "python3"
  },
  "language_info": {
   "codemirror_mode": {
    "name": "ipython",
    "version": 3
   },
   "file_extension": ".py",
   "mimetype": "text/x-python",
   "name": "python",
   "nbconvert_exporter": "python",
   "pygments_lexer": "ipython3",
   "version": "3.9.7"
  }
 },
 "nbformat": 4,
 "nbformat_minor": 2
}
