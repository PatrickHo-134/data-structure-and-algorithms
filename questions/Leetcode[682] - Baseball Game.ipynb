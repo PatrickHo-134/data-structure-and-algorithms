{
 "cells": [
  {
   "cell_type": "markdown",
   "id": "5397d228",
   "metadata": {},
   "source": [
    "## Description\n",
    "\n",
    "[Leetcode Link](https://leetcode.com/problems/baseball-game/description/?envType=problem-list-v2&envId=91mgfgrg)\n",
    "\n",
    "You are keeping the scores for a baseball game with strange rules. At the beginning of the game, you start with an empty record.\n",
    "\n",
    "You are given a list of strings `operations`, where `operations[i]` is the i<sup>th</sup> operation you must apply to the record and is one of the following:\n",
    "\n",
    "- An integer `x`.\n",
    "    - Record a new score of `x`.\n",
    "\n",
    "- '+'.\n",
    "    - Record a new score that is the sum of the previous two scores.\n",
    "\n",
    "- 'D'.\n",
    "    - Record a new score that is the double of the previous score.\n",
    "\n",
    "- 'C'.\n",
    "    - Invalidate the previous score, removing it from the record.\n",
    "\n",
    "Return the sum of all the scores on the record after applying all the operations.\n",
    "\n",
    "The test cases are generated such that the answer and all intermediate calculations fit in a **32-bit** integer and that all operations are valid.\n",
    "\n",
    " \n",
    "### Example 1:\n",
    "\n",
    "Input: ops = [\"5\",\"2\",\"C\",\"D\",\"+\"]\n",
    "\n",
    "Output: 30\n",
    "\n",
    "**Explanation:**\n",
    "\n",
    "\"5\" - Add 5 to the record, record is now [5].\n",
    "\n",
    "\"2\" - Add 2 to the record, record is now [5, 2].\n",
    "\n",
    "\"C\" - Invalidate and remove the previous score, record is now [5].\n",
    "\n",
    "\"D\" - Add 2 * 5 = 10 to the record, record is now [5, 10].\n",
    "\n",
    "\"+\" - Add 5 + 10 = 15 to the record, record is now [5, 10, 15].\n",
    "\n",
    "The total sum is 5 + 10 + 15 = 30.\n",
    "\n",
    "\n",
    "### Example 2:\n",
    "\n",
    "Input: ops = [\"5\",\"-2\",\"4\",\"C\",\"D\",\"9\",\"+\",\"+\"]\n",
    "\n",
    "Output: 27\n",
    "\n",
    "**Explanation:**\n",
    "\n",
    "\"5\" - Add 5 to the record, record is now [5].\n",
    "\n",
    "\"-2\" - Add -2 to the record, record is now [5, -2].\n",
    "\n",
    "\"4\" - Add 4 to the record, record is now [5, -2, 4].\n",
    "\n",
    "\"C\" - Invalidate and remove the previous score, record is now [5, -2].\n",
    "\n",
    "\"D\" - Add 2 * -2 = -4 to the record, record is now [5, -2, -4].\n",
    "\n",
    "\"9\" - Add 9 to the record, record is now [5, -2, -4, 9].\n",
    "\n",
    "\"+\" - Add -4 + 9 = 5 to the record, record is now [5, -2, -4, 9, 5].\n",
    "\n",
    "\"+\" - Add 9 + 5 = 14 to the record, record is now [5, -2, -4, 9, 5, 14].\n",
    "\n",
    "The total sum is 5 + -2 + -4 + 9 + 5 + 14 = 27.\n",
    "\n",
    "### Example 3:\n",
    "\n",
    "Input: ops = [\"1\",\"C\"]\n",
    "\n",
    "\n",
    "Output: 0\n",
    "\n",
    "**Explanation:**\n",
    "\n",
    "\"1\" - Add 1 to the record, record is now [1].\n",
    "\n",
    "\"C\" - Invalidate and remove the previous score, record is now [].\n",
    "Since the record is empty, the total sum is 0.\n",
    " \n",
    "\n",
    "### Constraints:\n",
    "\n",
    "- `1 <= operations.length <= 1000`\n",
    "\n",
    "- `operations[i]` is `\"C\"`, `\"D\"`, `\"+\"`, or a string representing an integer in the range `[-3 * 104, 3 * 104]`.\n",
    "\n",
    "- For operation `\"+\"`, there will always be at least two previous scores on the record.\n",
    "\n",
    "- For operations `\"C\"` and `\"D\"`, there will always be at least one previous score on the record."
   ]
  },
  {
   "cell_type": "code",
   "execution_count": 103,
   "id": "5ba0f901",
   "metadata": {},
   "outputs": [],
   "source": [
    "from typing import List\n",
    "\n",
    "class Solution:\n",
    "\n",
    "    # 'D' case\n",
    "    def double_previous_score(self, scores):\n",
    "        last_score = scores[-1]\n",
    "        new_score = 2 * last_score\n",
    "        new_scores = scores + [new_score]\n",
    "        \n",
    "        return new_scores\n",
    "\n",
    "    # '+' case\n",
    "    def sum_previous_two(self, scores):\n",
    "        this, that = scores[-2:]\n",
    "        new_score = this + that\n",
    "        new_scores = scores + [new_score]\n",
    "\n",
    "        return new_scores\n",
    "\n",
    "    # 'C' case\n",
    "    def invalidate_last_score(self, scores):\n",
    "        new_scores = scores[:-1]\n",
    "\n",
    "        return new_scores\n",
    "    \n",
    "    # add new score\n",
    "    def add_score(self, scores, v):\n",
    "        new_scores = scores + [v]\n",
    "\n",
    "        return new_scores\n",
    "\n",
    "    def handle_operation(self, op, current_scores):\n",
    "        if op == \"D\":\n",
    "            new_scores = self.double_previous_score(current_scores)\n",
    "        elif op == \"C\":\n",
    "            new_scores = self.invalidate_last_score(current_scores)\n",
    "        elif op == \"+\":\n",
    "            new_scores = self.sum_previous_two(current_scores)\n",
    "        else:\n",
    "            new_scores = self.add_score(current_scores, int(op))\n",
    "        \n",
    "        return new_scores\n",
    "    \n",
    "    def get_scores(self, ops):\n",
    "        scores = []\n",
    "        \n",
    "        for o in ops:\n",
    "            scores = self.handle_operation(o, scores)\n",
    "        \n",
    "        return scores\n",
    "\n",
    "    def calPoints(self, operations: List[str]) -> int:\n",
    "        scores = self.get_scores(operations)\n",
    "\n",
    "        return sum(scores)"
   ]
  },
  {
   "cell_type": "code",
   "execution_count": 104,
   "id": "80ef1983",
   "metadata": {},
   "outputs": [],
   "source": [
    "my_solution = Solution()"
   ]
  },
  {
   "cell_type": "code",
   "execution_count": 106,
   "id": "48ddb939",
   "metadata": {},
   "outputs": [
    {
     "data": {
      "text/plain": [
       "30"
      ]
     },
     "execution_count": 106,
     "metadata": {},
     "output_type": "execute_result"
    }
   ],
   "source": [
    "# 30\n",
    "operations = [\"5\",\"2\",\"C\",\"D\",\"+\"]\n",
    "my_solution.calPoints(operations)"
   ]
  },
  {
   "cell_type": "code",
   "execution_count": 105,
   "id": "f2b19070",
   "metadata": {},
   "outputs": [
    {
     "data": {
      "text/plain": [
       "27"
      ]
     },
     "execution_count": 105,
     "metadata": {},
     "output_type": "execute_result"
    }
   ],
   "source": [
    "# 27\n",
    "operations = [\"5\",\"-2\",\"4\",\"C\",\"D\",\"9\",\"+\",\"+\"]\n",
    "my_solution.calPoints(operations)"
   ]
  },
  {
   "cell_type": "code",
   "execution_count": 107,
   "id": "df7b8ac5",
   "metadata": {},
   "outputs": [
    {
     "data": {
      "text/plain": [
       "0"
      ]
     },
     "execution_count": 107,
     "metadata": {},
     "output_type": "execute_result"
    }
   ],
   "source": [
    "# 0\n",
    "operations = [\"1\",\"C\"]\n",
    "my_solution.calPoints(operations)"
   ]
  },
  {
   "cell_type": "code",
   "execution_count": null,
   "id": "932d3431",
   "metadata": {},
   "outputs": [],
   "source": []
  },
  {
   "cell_type": "code",
   "execution_count": null,
   "id": "8acc1da8",
   "metadata": {},
   "outputs": [],
   "source": []
  }
 ],
 "metadata": {
  "kernelspec": {
   "display_name": "Python 3 (ipykernel)",
   "language": "python",
   "name": "python3"
  },
  "language_info": {
   "codemirror_mode": {
    "name": "ipython",
    "version": 3
   },
   "file_extension": ".py",
   "mimetype": "text/x-python",
   "name": "python",
   "nbconvert_exporter": "python",
   "pygments_lexer": "ipython3",
   "version": "3.9.7"
  }
 },
 "nbformat": 4,
 "nbformat_minor": 5
}
