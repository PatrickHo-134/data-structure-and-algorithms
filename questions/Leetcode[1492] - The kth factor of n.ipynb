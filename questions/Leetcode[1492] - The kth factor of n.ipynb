{
 "cells": [
  {
   "cell_type": "markdown",
   "id": "c9356061",
   "metadata": {},
   "source": [
    "You are given two positive integers n and k. A factor of an integer n is defined as an integer i where n % i == 0.\n",
    "\n",
    "Consider a list of all factors of n sorted in ascending order, return the kth factor in this list or return -1 if n has less than k factors.\n",
    "\n",
    " \n",
    "\n",
    "Example 1:\n",
    "\n",
    "Input: n = 12, k = 3\n",
    "\n",
    "Output: 3\n",
    "\n",
    "Explanation: Factors list is [1, 2, 3, 4, 6, 12], the 3rd factor is 3.\n",
    "\n",
    "Example 2:\n",
    "\n",
    "Input: n = 7, k = 2\n",
    "\n",
    "Output: 7\n",
    "\n",
    "Explanation: Factors list is [1, 7], the 2nd factor is 7.\n",
    "\n",
    "Example 3:\n",
    "\n",
    "Input: n = 4, k = 4\n",
    "\n",
    "Output: -1\n",
    "\n",
    "Explanation: Factors list is [1, 2, 4], there is only 3 factors. We should return -1.\n",
    " \n",
    "\n",
    "Constraints:\n",
    "\n",
    "1 <= k <= n <= 1000\n",
    " \n",
    "\n",
    "Follow up:\n",
    "\n",
    "Could you solve this problem in less than O(n) complexity?"
   ]
  },
  {
   "cell_type": "code",
   "execution_count": 6,
   "id": "2abcd86b",
   "metadata": {},
   "outputs": [],
   "source": [
    "def is_factor_of_n(i, n):\n",
    "    return (n % i == 0)"
   ]
  },
  {
   "cell_type": "code",
   "execution_count": 17,
   "id": "5f98dec2",
   "metadata": {},
   "outputs": [],
   "source": [
    "def get_kth_factor(n, k):\n",
    "    # return the item at k index from n_factors    \n",
    "    # n, k are integers\n",
    "    \n",
    "    n_factors = []\n",
    "    kth_factor = -1\n",
    "    \n",
    "    # loop with a i number starting from 1,\n",
    "    # if is factor, add the number to n_factors,\n",
    "    # keep track of number of factors in n_factors\n",
    "    i = 1\n",
    "    while i <= n:\n",
    "        if is_factor(i, n):\n",
    "            n_factors.append(i)\n",
    "            \n",
    "            if k == len(n_factors):\n",
    "                kth_factor = i\n",
    "                break\n",
    "            else:\n",
    "                i += 1\n",
    "        else:\n",
    "            i += 1\n",
    "    \n",
    "    return kth_factor"
   ]
  },
  {
   "cell_type": "code",
   "execution_count": 16,
   "id": "377dcaf9",
   "metadata": {},
   "outputs": [
    {
     "data": {
      "text/plain": [
       "-1"
      ]
     },
     "execution_count": 16,
     "metadata": {},
     "output_type": "execute_result"
    }
   ],
   "source": [
    "get_kth_factor(4, 4)"
   ]
  },
  {
   "cell_type": "code",
   "execution_count": null,
   "id": "29d7cef8",
   "metadata": {},
   "outputs": [],
   "source": []
  },
  {
   "cell_type": "code",
   "execution_count": null,
   "id": "9785c54f",
   "metadata": {},
   "outputs": [],
   "source": []
  }
 ],
 "metadata": {
  "kernelspec": {
   "display_name": "Python 3 (ipykernel)",
   "language": "python",
   "name": "python3"
  },
  "language_info": {
   "codemirror_mode": {
    "name": "ipython",
    "version": 3
   },
   "file_extension": ".py",
   "mimetype": "text/x-python",
   "name": "python",
   "nbconvert_exporter": "python",
   "pygments_lexer": "ipython3",
   "version": "3.9.7"
  }
 },
 "nbformat": 4,
 "nbformat_minor": 5
}
