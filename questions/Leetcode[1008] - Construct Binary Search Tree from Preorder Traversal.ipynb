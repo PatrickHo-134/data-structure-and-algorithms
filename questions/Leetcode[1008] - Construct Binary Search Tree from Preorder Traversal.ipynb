{
 "cells": [
  {
   "cell_type": "markdown",
   "id": "54935451",
   "metadata": {},
   "source": [
    "## Problem Description\n",
    "\n",
    "Given an array of integers preorder, which represents the preorder traversal of a BST (i.e., binary search tree), construct the tree and return its root.\n",
    "\n",
    "It is guaranteed that there is always possible to find a binary search tree with the given requirements for the given test cases.\n",
    "\n",
    "A binary search tree is a binary tree where for every node, any descendant of Node.left has a value strictly less than Node.val, and any descendant of Node.right has a value strictly greater than Node.val.\n",
    "\n",
    "A preorder traversal of a binary tree displays the value of the node first, then traverses Node.left, then traverses Node.right.\n",
    "\n",
    "Example 1:\n",
    "\n",
    "Input: preorder = [8,5,1,7,10,12]\n",
    "\n",
    "Output: [8,5,10,1,7,null,12]\n",
    "\n",
    "\n",
    "Example 2:\n",
    "\n",
    "Input: preorder = [1,3]\n",
    "\n",
    "Output: [1,null,3]"
   ]
  },
  {
   "cell_type": "markdown",
   "id": "e4607810",
   "metadata": {},
   "source": [
    "## Intuition\n",
    "\n",
    "To construct the BST from the preorder sequence, we make use of the above-mentioned property of BSTs: all left descendants are less than the node, and all right descendants are greater.\n",
    "\n",
    "Here's the approach to solving the problem:\n",
    "\n",
    "1. Treat the first value as the root node since we're given a preorder traversal array.\n",
    "\n",
    "2. Split the remaining elements into two groups: one for the left subtree and one for the right subtree. The left subtree consists of all elements less than the root's value, whereas the right subtree includes all elements more significant than the root's value.\n",
    "\n",
    "3. Recursively apply these steps to both the left and right groups to construct the entire tree.\n",
    "\n",
    "The solution makes use of a recursive function, dfs, which creates a node for each call using the first element in the current array slice as the node's value. It then uses binary search to find the boundary between the left and right children nodes. Finally, it constructs the subtree by recursively calling the same function on the appropriate subarrays for left and right children.\n",
    "\n",
    "By breaking down the problem in this way and using recursion, we can recreate the BST that corresponds to the given preorder traversal."
   ]
  },
  {
   "cell_type": "markdown",
   "id": "849d231e",
   "metadata": {},
   "source": [
    "## Solution Approach\n",
    "\n",
    "The solution is implemented in Python, and it uses a recursive depth-first search (DFS) approach to reconstruct the Binary Search Tree (BST). The code block defines a helper function `dfs` that performs the main logic of constructing the BST.\n",
    "\n",
    "Let's explore the key parts of the implementation:\n",
    "\n",
    "\n",
    "### Recursive DFS Function:\n",
    "\n",
    "- The dfs function takes the preorder array slice representing the current subtree it is processing.\n",
    "\n",
    "- It first checks if the preorder array is empty. If so, it returns None, as there are no more nodes to construct in this subtree.\n",
    "\n",
    "- It then creates the root node of the current subtree using the first value of the preorder array as TreeNode(preorder[0]).\n",
    "\n",
    "\n",
    "### Binary Search to Split the Array:\n",
    "\n",
    "- Next, within the dfs function, we use binary search to determine the boundary between the left and right children nodes.\n",
    "\n",
    "- This boundary is the index of the first element in preorder that is greater than the root's value. We use a loop that performs a binary search to find this boundary efficiently.\n",
    "\n",
    "- Once found, the elements from preorder[1:left] will be all the elements that belong to the left subtree (values less than the root's value), and the elements from preorder[left:] will be those that belong to the right subtree (values greater than the root’s value).\n",
    "\n",
    "\n",
    "### Recursion to Build Subtrees:\n",
    "\n",
    "- The dfs function calls itself twice recursively to construct the left and right subtrees. The left subtree is created using the elements before the found boundary, and the right subtree is created using the elements after the boundary.\n",
    "\n",
    "\n",
    "### Putting It All Together:\n",
    "\n",
    "- The initial call to dfs is made with the entire preorder array, and it returns the root of the BST constructed.\n",
    "\n",
    "- As the recursive calls proceed, smaller slices of the preorder array are passed down to construct each subtree until the entire BST is built.\n",
    "\n",
    "\n",
    "### The Recursive Process in Steps:\n",
    "\n",
    "- The function is initially called with the full preorder array. The first element is treated as the root node.\n",
    "\n",
    "- Use binary search within the remaining items to split them into left and right subtrees based on their value in relation to the root's value.\n",
    "\n",
    "- Recursively call dfs with the left subtree elements to construct the left subtree. This call will continue to split and build left and right subtrees until the base case (empty array slice) is reached.\n",
    "\n",
    "- Recursively call dfs with the right subtree elements to do the same for the right subtree."
   ]
  },
  {
   "cell_type": "markdown",
   "id": "3ba53619",
   "metadata": {},
   "source": [
    "## Example Walkthrough\n",
    "\n",
    "Let's illustrate the solution approach with a small example. Consider the preorder traversal array [8, 5, 1, 7, 10, 12]. We want to reconstruct the BST that results in this preorder sequence.\n",
    "\n",
    "### Step-by-Step Reconstruction:\n",
    "\n",
    "1. Call dfs function with the full preorder array ([8, 5, 1, 7, 10, 12]). The first element 8 is chosen as the root node.\n",
    "\n",
    "2. We perform a binary search to split the array into elements that are less than 8 ([5, 1, 7]) for the left subtree, and elements that are greater ([10, 12]) for the right subtree.\n",
    "\n",
    "3. The left subtree call to dfs uses [5, 1, 7]. Here, 5 is the root of the left subtree.\n",
    "\n",
    "4. Binary search on [1, 7] splits it into [1] for the left subtree and [7] for the right, both relative to the new root node 5.\n",
    "\n",
    "5. The recursion continues, with dfs called with [1], making 1 a leaf node (as it has no further elements to process), and similarly, dfs called with [7] making 7 a leaf node on the right of node 5.\n",
    "\n",
    "6. Meanwhile, for the right subtree, dfs is called with [10, 12]. The root node for this subtree is 10, with no left children (since there are no elements less than 10) and a right child node to be created from [12].\n",
    "\n",
    "7. `dfs` called with [12] makes 12 a leaf node, being the right child of node 10."
   ]
  },
  {
   "cell_type": "code",
   "execution_count": 15,
   "id": "53b8102b",
   "metadata": {},
   "outputs": [],
   "source": [
    "class TreeNode:\n",
    "    # Definition for a binary tree node.\n",
    "    def __init__(self, val=0, left=None, right=None):\n",
    "        self.val = val\n",
    "        self.left = left\n",
    "        self.right = right"
   ]
  },
  {
   "cell_type": "code",
   "execution_count": 14,
   "id": "c61fc8a3",
   "metadata": {},
   "outputs": [],
   "source": [
    "def find_boundary_of_subtrees(values):\n",
    "    root_value = values[0]\n",
    "    left_index, right_index = 1, len(values)\n",
    "    \n",
    "    # Find the boundary between left and right subtrees.\n",
    "    while left_index < right_index:\n",
    "        mid = (left_index + right_index) // 2  # Using floor division for Python 3.\n",
    "        \n",
    "        if values[mid] > root_value:\n",
    "            # If the mid value is greater than the root's value,\n",
    "            # it belongs to the right subtree.\n",
    "            right_index = mid\n",
    "        else:\n",
    "            # Otherwise, it belongs to the left subtree.\n",
    "            left_index = mid + 1\n",
    "        \n",
    "    return left_index # either left_index or right_index is fine since they're equal when found"
   ]
  },
  {
   "cell_type": "code",
   "execution_count": 17,
   "id": "618345f0",
   "metadata": {},
   "outputs": [],
   "source": [
    "def construct_bst_from_preorder(preorder):\n",
    "    if not preorder:\n",
    "        return None\n",
    "    \n",
    "    root = TreeNode(preorder[0])\n",
    "    \n",
    "    boundary_index = find_boundary_of_subtrees(preorder)\n",
    "    \n",
    "    root.left = construct_bst_from_preorder(preorder[1:boundary_index])\n",
    "    root.right = construct_bst_from_preorder(preorder[boundary_index:])\n",
    "    \n",
    "    return root"
   ]
  },
  {
   "cell_type": "code",
   "execution_count": 24,
   "id": "8c8c9261",
   "metadata": {},
   "outputs": [
    {
     "name": "stdout",
     "output_type": "stream",
     "text": [
      "5\n",
      "10\n"
     ]
    }
   ],
   "source": [
    "preorder = [8, 5, 1, 7, 10, 12]\n",
    "root = construct_bst_from_preorder(preorder)\n",
    "print(root.left.val)\n",
    "print(root.right.val)"
   ]
  }
 ],
 "metadata": {
  "kernelspec": {
   "display_name": "Python 3 (ipykernel)",
   "language": "python",
   "name": "python3"
  },
  "language_info": {
   "codemirror_mode": {
    "name": "ipython",
    "version": 3
   },
   "file_extension": ".py",
   "mimetype": "text/x-python",
   "name": "python",
   "nbconvert_exporter": "python",
   "pygments_lexer": "ipython3",
   "version": "3.9.7"
  }
 },
 "nbformat": 4,
 "nbformat_minor": 5
}
