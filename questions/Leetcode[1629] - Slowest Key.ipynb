{
 "cells": [
  {
   "cell_type": "markdown",
   "id": "e801e6ad",
   "metadata": {},
   "source": [
    "## Problem Description\n",
    "\n",
    "A newly designed keypad was tested, where a tester pressed a sequence of n keys, one at a time.\n",
    "\n",
    "You are given a string `keysPressed` of length `n`, where `keysPressed[i]` was the i<sup>th</sup> key pressed in the testing sequence, and a sorted list `releaseTimes`, where `releaseTimes[i]` was the time the i<sup>th</sup> key was released. Both arrays are 0-indexed. The 0<sup>th</sup> key was pressed at the time 0, and every subsequent key was pressed at the exact time the previous key was released.\n",
    "\n",
    "The tester wants to know the key of the keypress that had the longest duration. The i<sup>th</sup> keypress had a duration of `releaseTimes[i]` - `releaseTimes[i - 1]`, and the 0<sup>th</sup> keypress had a duration of `releaseTimes[0]`.\n",
    "\n",
    "Note that the same key could have been pressed multiple times during the test, and these multiple presses of the same key may not have had the same duration.\n",
    "\n",
    "Return the key of the keypress that had the longest duration. If there are multiple such keypresses, return the lexicographically largest key of the keypresses.\n",
    "\n"
   ]
  },
  {
   "cell_type": "markdown",
   "id": "1a62c910",
   "metadata": {},
   "source": [
    "## Example 1:\n",
    "\n",
    "**Input:**\n",
    "releaseTimes = [9,29,49,50], keysPressed = \"cbcd\"\n",
    "\n",
    "**Output:**\n",
    "\"c\"\n",
    "\n",
    "**Explanation:**\n",
    "\n",
    "The keypresses were as follows:\n",
    "\n",
    "- Keypress for 'c' had a duration of 9 (pressed at time 0 and released at time 9).\n",
    "\n",
    "- Keypress for 'b' had a duration of 29 - 9 = 20 (pressed at time 9 right after the release of the previous character and released at time 29).\n",
    "\n",
    "- Keypress for 'c' had a duration of 49 - 29 = 20 (pressed at time 29 right after the release of the previous character and released at time 49).\n",
    "\n",
    "- Keypress for 'd' had a duration of 50 - 49 = 1 (pressed at time 49 right after the release of the previous character and released at time 50).\n",
    "\n",
    "- The longest of these was the keypress for 'b' and the second keypress for 'c', both with duration 20.\n",
    "\n",
    "'c' is lexicographically larger than 'b', so the answer is 'c'."
   ]
  },
  {
   "cell_type": "markdown",
   "id": "fae54f66",
   "metadata": {},
   "source": [
    "## Example 2:\n",
    "\n",
    "**Input:**\n",
    "releaseTimes = [12,23,36,46,62], keysPressed = \"spuda\"\n",
    "\n",
    "**Output:**\n",
    "\"a\"\n",
    "\n",
    "Explanation: The keypresses were as follows:\n",
    "\n",
    "- Keypress for 's' had a duration of 12.\n",
    "\n",
    "- Keypress for 'p' had a duration of 23 - 12 = 11.\n",
    "\n",
    "- Keypress for 'u' had a duration of 36 - 23 = 13.\n",
    "\n",
    "- Keypress for 'd' had a duration of 46 - 36 = 10.\n",
    "\n",
    "- Keypress for 'a' had a duration of 62 - 46 = 16.\n",
    "\n",
    "The longest of these was the keypress for 'a' with duration 16."
   ]
  },
  {
   "cell_type": "code",
   "execution_count": 47,
   "id": "3aa797f8",
   "metadata": {},
   "outputs": [],
   "source": [
    "from typing import List\n",
    "\n",
    "class Solution:\n",
    "    def slowestKey(self, releaseTimes: List[int], keysPressed: str) -> str:\n",
    "        last_time = 0\n",
    "        longest_duration = 0\n",
    "        slowest_keys = []\n",
    "\n",
    "        for i in range(0, len(keysPressed)):\n",
    "            current_time = releaseTimes[i]\n",
    "            duration = current_time - last_time\n",
    "    \n",
    "            if duration > longest_duration:\n",
    "                longest_duration = duration\n",
    "        \n",
    "                if len(slowest_keys) > 0:\n",
    "                    slowest_keys.clear()\n",
    "                    slowest_keys.append(keysPressed[i])\n",
    "                else:\n",
    "                    slowest_keys.append(keysPressed[i])\n",
    "            elif duration == longest_duration:\n",
    "                slowest_keys.append(keysPressed[i])\n",
    "\n",
    "                longest_duration = duration\n",
    "            else:\n",
    "                pass\n",
    "   \n",
    "            last_time = current_time\n",
    "\n",
    "        return max(slowest_keys)"
   ]
  },
  {
   "cell_type": "code",
   "execution_count": 49,
   "id": "efc38d8f",
   "metadata": {},
   "outputs": [],
   "source": [
    "keysPressed = \"cbcd\"\n",
    "releaseTimes = [9,29,49,50]\n",
    "# c"
   ]
  },
  {
   "cell_type": "code",
   "execution_count": 51,
   "id": "d5f2b12e",
   "metadata": {},
   "outputs": [],
   "source": [
    "releaseTimes = [12,23,36,46,62]\n",
    "keysPressed = \"spuda\"\n",
    "# a"
   ]
  },
  {
   "cell_type": "code",
   "execution_count": 53,
   "id": "38482d31",
   "metadata": {},
   "outputs": [],
   "source": [
    "releaseTimes = [2,4,10,16,25,26,28,33,75]\n",
    "keysPressed = \"duxwdgmgw\"\n",
    "# w"
   ]
  },
  {
   "cell_type": "code",
   "execution_count": 54,
   "id": "44bb583d",
   "metadata": {},
   "outputs": [
    {
     "data": {
      "text/plain": [
       "'w'"
      ]
     },
     "execution_count": 54,
     "metadata": {},
     "output_type": "execute_result"
    }
   ],
   "source": [
    "my_solution = Solution()\n",
    "my_solution.slowestKey(releaseTimes, keysPressed)"
   ]
  },
  {
   "cell_type": "code",
   "execution_count": null,
   "id": "e227658c",
   "metadata": {},
   "outputs": [],
   "source": []
  }
 ],
 "metadata": {
  "kernelspec": {
   "display_name": "Python 3 (ipykernel)",
   "language": "python",
   "name": "python3"
  },
  "language_info": {
   "codemirror_mode": {
    "name": "ipython",
    "version": 3
   },
   "file_extension": ".py",
   "mimetype": "text/x-python",
   "name": "python",
   "nbconvert_exporter": "python",
   "pygments_lexer": "ipython3",
   "version": "3.9.7"
  }
 },
 "nbformat": 4,
 "nbformat_minor": 5
}
