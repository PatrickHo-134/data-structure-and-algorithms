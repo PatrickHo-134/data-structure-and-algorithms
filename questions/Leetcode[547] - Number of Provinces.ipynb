{
 "cells": [
  {
   "cell_type": "markdown",
   "id": "521a562e",
   "metadata": {},
   "source": [
    "## Problem Description\n",
    "\n",
    "There are `n` cities. Some of them are connected, while some are not. If city `a` is connected directly with city `b`, and city `b` is connected directly with city `c`, then city `a` is connected indirectly with city `c`.\n",
    "\n",
    "A province is a group of directly or indirectly connected cities and no other cities outside of the group.\n",
    "\n",
    "You are given an `n x n` matrix `isConnected` where `isConnected[i][j] = 1` if the i<sup>th</sup> city and the j<sup>th</sup> city are directly connected, and `isConnected[i][j] = 0` otherwise.\n",
    "\n",
    "Return the total number of **provinces**.\n",
    "\n",
    "\n",
    "### Example 1:\n",
    "\n",
    "\n",
    "    Input: isConnected = [[1,1,0],\n",
    "                          [1,1,0],\n",
    "                          [0,0,1]]\n",
    "\n",
    "    Output: 2\n",
    "\n",
    "\n",
    "### Example 2:\n",
    "\n",
    "    Input: isConnected = [[1,0,0],\n",
    "                          [0,1,0],\n",
    "                          [0,0,1]]\n",
    "\n",
    "    Output: 3\n",
    " \n",
    "\n",
    "### Constraints:\n",
    "\n",
    "- 1 <= n <= 200\n",
    "- n == `isConnected.length`\n",
    "- n == `isConnected[i].length`\n",
    "- `isConnected[i][j]` is 1 or 0.\n",
    "- `isConnected[i][i]` == 1\n",
    "- `isConnected[i][j]` == `isConnected[j][i]`"
   ]
  },
  {
   "cell_type": "markdown",
   "id": "8ac567c2",
   "metadata": {},
   "source": [
    "__ [a, b, c]   \n",
    "\n",
    "[a][1, 1, 0]\n",
    "\n",
    "[b][1, 1, 0]\n",
    "\n",
    "[c][0, 0, 1]"
   ]
  },
  {
   "cell_type": "markdown",
   "id": "97fe6d32",
   "metadata": {},
   "source": [
    "## Intuition\n",
    "\n",
    "To find the solution, we conceptualize the cities and the connections between them as a graph, where each city is a node and each direct connection is an edge. Now, the problem translates to finding the number of connected components in the graph. Each connected component will represent one province.\n",
    "\n",
    "To do this, we use Depth-First Search (DFS). Here's the intuition behind using DFS:\n",
    "\n",
    "1. We start with the first city and perform a DFS to mark all cities that are connected directly or indirectly to it. These cities form one province.\n",
    "2. Once the DFS is completed, we look for the next city that hasn't been visited yet and perform a DFS from that city to find another province.\n",
    "3. We repeat this process until all cities have been visited.\n",
    "\n",
    "Each time we initiate a DFS from a new unvisited city, we know that we've found a new province, so we increment our province count. The DFS ensures that we navigate through all the cities within a province before moving on to the next one.\n",
    "\n",
    "By doing the above steps using a `vis` (visited) list to keep track of which cities have been visited, we can effectively determine and count all the provinces."
   ]
  },
  {
   "cell_type": "markdown",
   "id": "08fad753",
   "metadata": {},
   "source": [
    "## Solution\n",
    "\n",
    "The solution uses a Depth-First Search (DFS) algorithm to explore the graph formed by the cities and connections. It utilizes an array `vis` to keep track of visited nodes (cities) to ensure we don't count the same province multiple times. Below is a step-by-step walk-through of the implementation:\n",
    "\n",
    "1. Define a recursive function `dfs(i: int)` that will perform a depth-first search starting from city i.\n",
    "2. Inside the `dfs` function, mark the current city i as visited by setting `vis[i]` to `True`.\n",
    "3. Iterate over all cities using j (which correspond to the columns of `isConnected[i]`).\n",
    "4. For each city j, check if j has not been visited (not vis[j]) and is directly connected to i (`isConnected[i][j] == 1`).\n",
    "5. If that's the case, call `dfs(j)` to visit all cities connected to j, marking the entire connected component as visited.\n",
    "\n",
    "The solution then follows these steps using the `vis` list:\n",
    "\n",
    "6. Initialize the vis list to be of the same length as the number of cities (n), with all elements set to False, indicating that no cities have been visited yet.\n",
    "7. Initialize a counter ans to 0, which will hold the number of provinces found.\n",
    "8. Iterate through all cities i from 0 to n - 1.\n",
    "9. For each city i, check if it has not been visited yet (not vis[i]).\n",
    "10. If it hasn't, it means we've encountered a new province. Call dfs(i) to mark all cities within this new province as visited.\n",
    "11. Increment the ans counter by 1 as we have found a new province.\n",
    "12. Continue the loop until all cities have been visited and all provinces have been counted.\n",
    "\n",
    "At the end of the loop, ans will contain the total number of provinces, which the function returns. This completes the solution implementation."
   ]
  },
  {
   "cell_type": "markdown",
   "id": "37994855",
   "metadata": {},
   "source": [
    "## Example Walkthrough\n",
    "\n",
    "Let's walk through a small example to illustrate the solution approach. Consider there are 4 cities, and the isConnected matrix is as follows:\n",
    "\n",
    "```\n",
    "isConnected = [\n",
    "    [1, 1, 0, 0],\n",
    "    [1, 1, 0, 0],\n",
    "    [0, 0, 1, 1],\n",
    "    [0, 0, 1, 1]\n",
    "]\n",
    "```\n",
    "\n",
    "Here, cities 0 and 1 are connected, as well as cities 2 and 3, forming two distinct provinces.\n",
    "\n",
    "We initialize our vis list as [False, False, False, False] and set our province counter ans to 0.\n",
    "\n",
    "Now let's perform the steps of the algorithm:\n",
    "\n",
    "1. We start with city 0 and run dfs(0).\n",
    "    - In dfs(0), city 0 is marked visited: vis = [True, False, False, False].\n",
    "    - We find that city 0 is connected to city 1, dfs(1) is called.\n",
    "        + In dfs(1), city 1 is marked visited: vis = [True, True, False, False].\n",
    "        + There are no unvisited cities connected to city 1, so dfs(1) ends.\n",
    "2.Since all cities connected to city 0 are now visited, dfs(0) ends. We've found our first province, so we increment ans to 1.\n",
    "3. Next, we move to city 1, but since it's already visited, we proceed to city 2 and run dfs(2).\n",
    "    - In dfs(2), city 2 is marked visited: vis = [True, True, True, False].\n",
    "    - We find that city 2 is connected to city 3, dfs(3) is called.\n",
    "        + In dfs(3), city 3 is marked visited: vis = [True, True, True, True].\n",
    "        + There are no unvisited cities connected to city 3, so dfs(3) ends.\n",
    "4. At this point, all cities connected to city 2 are visited, ending dfs(2). We've found another province, incrementing ans to 2.\n",
    "5. Finally, we move to city 3 and see it's already visited.\n",
    "\n",
    "Now, we've visited all cities, and there are no unvisited cities to start a new dfs from. Thus, we conclude there are 2 provinces in total, which is the value of ans.\n",
    "\n",
    "The full algorithm will perform similarly on a larger scale, incrementing the province count each time it initiates a DFS on an unvisited city, and continuing until all cities are visited. The final result is the total number of provinces."
   ]
  },
  {
   "cell_type": "code",
   "execution_count": 3,
   "id": "cb027d76",
   "metadata": {},
   "outputs": [],
   "source": [
    "from typing import List\n",
    "\n",
    "class Solution:\n",
    "    \n",
    "    # Depth-First Search function which marks the nodes as visited\n",
    "    def dfs(self, visited: list, isConnected: list, current_city: int):\n",
    "        print(visited)\n",
    "        visited[current_city] = True  # Mark the current city as visited\n",
    "        \n",
    "        for adjacent_city, connected in enumerate(isConnected[current_city]):\n",
    "            # If the adjacent city is not visited and there is a connection,\n",
    "            # then continue the search from that city\n",
    "            if not visited[adjacent_city] and connected:\n",
    "                self.dfs(visited, isConnected, adjacent_city)\n",
    "\n",
    "    def findCircleNum(self, isConnected: List[List[int]]) -> int:\n",
    "        # Number of cities in the given matrix\n",
    "        num_cities = len(isConnected)\n",
    "        \n",
    "        # Initialize a visited list to keep track of cities that have been visited\n",
    "        visited = [False] * num_cities\n",
    "        \n",
    "        # Counter for the number of provinces (disconnected components)\n",
    "        province_count = 0\n",
    "        \n",
    "        # Loop over each city and perform DFS if it hasn't been visited\n",
    "        for city in range(num_cities):\n",
    "            if not visited[city]:  # If the city hasn't been visited yet\n",
    "                self.dfs(visited, isConnected, city)  # Start DFS from this city\n",
    "                # After finishing DFS, we have found a new province\n",
    "                province_count += 1\n",
    "                \n",
    "        # Return the total number of disconnected components (provinces) in the graph\n",
    "        return province_count"
   ]
  },
  {
   "cell_type": "code",
   "execution_count": 7,
   "id": "edebee23",
   "metadata": {},
   "outputs": [],
   "source": [
    "example_1 = [\n",
    "    [1,1,0],\n",
    "    [1,1,0],\n",
    "    [0,0,1]\n",
    "]\n",
    "\n",
    "example_2 = [\n",
    "    [1,0,0],\n",
    "    [0,1,0],\n",
    "    [0,0,1]\n",
    "]\n",
    "\n",
    "example_3 = [\n",
    "    [1, 1, 0, 1, 1],\n",
    "    [1, 1, 0, 0, 0],\n",
    "    [0, 0, 1, 1, 0],\n",
    "    [0, 0, 1, 1, 0],\n",
    "    [1, 1, 0, 0, 1],\n",
    "]\n",
    "my_solution = Solution()"
   ]
  },
  {
   "cell_type": "code",
   "execution_count": 10,
   "id": "eb59334b",
   "metadata": {},
   "outputs": [
    {
     "name": "stdout",
     "output_type": "stream",
     "text": [
      "0 1\n",
      "1 0\n",
      "2 0\n"
     ]
    }
   ],
   "source": [
    "for adjacent_city, connected in enumerate(example_2[0]):\n",
    "    print(adjacent_city, connected)"
   ]
  },
  {
   "cell_type": "code",
   "execution_count": 5,
   "id": "62560f2c",
   "metadata": {},
   "outputs": [
    {
     "name": "stdout",
     "output_type": "stream",
     "text": [
      "[False, False, False]\n",
      "[True, False, False]\n",
      "[True, True, False]\n"
     ]
    },
    {
     "data": {
      "text/plain": [
       "2"
      ]
     },
     "execution_count": 5,
     "metadata": {},
     "output_type": "execute_result"
    }
   ],
   "source": [
    "my_solution.findCircleNum(example_1)"
   ]
  },
  {
   "cell_type": "code",
   "execution_count": 6,
   "id": "e1c8092c",
   "metadata": {},
   "outputs": [
    {
     "name": "stdout",
     "output_type": "stream",
     "text": [
      "[False, False, False, False, False]\n",
      "[True, False, False, False, False]\n",
      "[True, True, False, False, False]\n",
      "[True, True, False, True, False]\n",
      "[True, True, True, True, False]\n"
     ]
    },
    {
     "data": {
      "text/plain": [
       "1"
      ]
     },
     "execution_count": 6,
     "metadata": {},
     "output_type": "execute_result"
    }
   ],
   "source": [
    "my_solution.findCircleNum(example_3)"
   ]
  },
  {
   "cell_type": "code",
   "execution_count": null,
   "id": "41a4d650",
   "metadata": {},
   "outputs": [],
   "source": []
  },
  {
   "cell_type": "code",
   "execution_count": null,
   "id": "1195eedd",
   "metadata": {},
   "outputs": [],
   "source": []
  }
 ],
 "metadata": {
  "kernelspec": {
   "display_name": "Python 3 (ipykernel)",
   "language": "python",
   "name": "python3"
  },
  "language_info": {
   "codemirror_mode": {
    "name": "ipython",
    "version": 3
   },
   "file_extension": ".py",
   "mimetype": "text/x-python",
   "name": "python",
   "nbconvert_exporter": "python",
   "pygments_lexer": "ipython3",
   "version": "3.9.7"
  }
 },
 "nbformat": 4,
 "nbformat_minor": 5
}
