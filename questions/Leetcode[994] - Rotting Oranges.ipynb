{
 "cells": [
  {
   "cell_type": "markdown",
   "id": "0b6d04d9",
   "metadata": {},
   "source": [
    "# Problem Description\n",
    "\n",
    "You are given an `m x n` grid where each cell can have one of three values:\n",
    "\n",
    "- 0 representing an empty cell,\n",
    "- 1 representing a fresh orange, or\n",
    "- 2 representing a rotten orange.\n",
    "\n",
    "Every minute, any fresh orange that is 4-directionally adjacent to a rotten orange becomes rotten.\n",
    "\n",
    "Return the minimum number of minutes that must elapse until no cell has a fresh orange. If this is impossible, return -1.\n",
    "\n",
    "## Example 1:\n",
    "\n",
    "Input: grid = [[2,1,1], [1,1,0], [0,1,1]]\n",
    "Output: 4\n",
    "\n",
    "\n",
    "## Example 2:\n",
    "\n",
    "Input: grid = [[2,1,1],[0,1,1],[1,0,1]]\n",
    "Output: -1\n",
    "\n",
    "Explanation: The orange in the bottom left corner (row 2, column 0) is never rotten, because rotting only happens 4-directionally.\n",
    "\n",
    "\n",
    "## Example 3:\n",
    "\n",
    "Input: grid = [[0,2]]\n",
    "Output: 0\n",
    "Explanation: Since there are already no fresh oranges at minute 0, the answer is just 0.\n",
    " \n",
    "\n",
    "## Constraints:\n",
    "\n",
    "- `m == grid.length`\n",
    "- `n == grid[i].length`\n",
    "- `1 <= m`, `n <= 10`\n",
    "- `grid[i][j]` is 0, 1, or 2."
   ]
  },
  {
   "cell_type": "markdown",
   "id": "0767eb2d",
   "metadata": {},
   "source": [
    "# Solution\n",
    "\n",
    "## 1. Initialisation of variables\n",
    "- `start` which is the initial rotten orange to start counting minutes\n",
    "- `rotten_oranges`, a double-ended queue (deque), which is used to perform efficient pop and append operations from both ends, crucial for BFS.\n",
    "- `fresh_orange_count` to keep a count of the fresh oranges.\n",
    "- `minute_count` to keep track of the time taken in minutes\n",
    "\n",
    "## 2. Grid Scanning\n",
    "- Define functions `find_starting_point` and `count_fresh_oranges` which scan through the entire grid to find the starting position (initial rotten orange) and  number of fresh oranges in the grid\n",
    "- Define function `get_neighbors` to find adjacent cells of a particular cell.\n",
    "\n",
    "## 3. BFS Process\n",
    "\n",
    "- We execute a loop that continues as long as there are fresh oranges (`fresh_orange_count`) and there are rotten oranges in the queue to process (`rotten_oranges`). Each iteration of the loop represents a passing minute where potential rotting of adjacent oranges occurs.\n",
    "\n",
    "- Inside the loop, we increment `minute_count` for each round of minute and process all rotten oranges in the queue for that minute:\n",
    "    - Pop each position of a rotten orange from the **front** of the queue.\n",
    "    - Look at each of the adjacent cells using the helper function `get_neighbor`.\n",
    "    - For each adjacent cell:\n",
    "        + Check if it contains a fresh orange (`grid[x][y] == 1`).\n",
    "        + If the adjacent cell is a fresh orange, decrement `fresh_orange_count`, set that cell to 2 (rotten), and append its position to the queue `rotten_oranges` for processing in the next minute.\n",
    "\n",
    "- Once the BFS loop ends, we check whether there are any fresh oranges left untouched (`fresh_orange_count > 0`). If there are, we return -1, indicating that it's impossible to rot all oranges. If `fresh_orange_count` is 0, meaning all fresh oranges have been turned rotten, we return ans, the total minutes elapsed.\n",
    "\n",
    "The use of BFS ensures that we process all oranges that could potentially become rotten in a particular minute before moving on to the next minute. This closely emulates the passage of time and the spread of rot from orange to orange. The deque data structure allows us to efficiently enqueue new rotten oranges for subsequent processing while still keeping track of the current round of oranges being processed."
   ]
  },
  {
   "cell_type": "code",
   "execution_count": 11,
   "id": "a3b9ebd3",
   "metadata": {},
   "outputs": [],
   "source": [
    "from typing import List\n",
    "from collections import deque\n",
    "\n",
    "class Solution:\n",
    "    def get_neighbors(self, row, col, grid):\n",
    "        max_row = len(grid)\n",
    "        max_col = len(grid[0])\n",
    "        \n",
    "        pos = []\n",
    "        \n",
    "        if row-1 >= 0:\n",
    "            pos.append((row-1, col))\n",
    "            \n",
    "        if col-1 >= 0:\n",
    "            pos.append((row, col-1))\n",
    "            \n",
    "        if row+1 < max_row:\n",
    "            pos.append((row+1, col))\n",
    "            \n",
    "        if col+1 < max_col:\n",
    "            pos.append((row, col+1))\n",
    "            \n",
    "        return pos\n",
    "\n",
    "    def find_starting_point(self, matrix):\n",
    "        for x in range(len(matrix)):\n",
    "            if 2 in matrix[x]:\n",
    "                y = matrix[x].index(2)\n",
    "                break\n",
    "        return [x,y]\n",
    "\n",
    "    def count_fresh_oranges(self, matrix):\n",
    "        count = 0\n",
    "        for x in range(len(matrix)):\n",
    "            for y in range(len(matrix[x])):\n",
    "                if matrix[x][y] == 1:\n",
    "                    count += 1\n",
    "        \n",
    "        return count\n",
    "\n",
    "    def orangesRotting(self, grid: List[List[int]]) -> int:\n",
    "        start = self.find_starting_point(grid)\n",
    "        fresh_orange_count = self.count_fresh_oranges(grid)\n",
    "        minute_count = 0\n",
    "        rotten_oranges = deque([start])\n",
    "        \n",
    "        while rotten_oranges and fresh_orange_count > 0:\n",
    "            print(rotten_oranges)\n",
    "            minute_count += 1\n",
    "        \n",
    "            for _ in range(len(rotten_oranges)):\n",
    "                x, y = rotten_oranges.popleft()\n",
    "                neighbors = self.get_neighbors(x, y, grid)\n",
    "\n",
    "                for n in neighbors:\n",
    "                    nx, ny = n\n",
    "\n",
    "                    if grid[nx][ny] == 1:\n",
    "                        fresh_orange_count -= 1\n",
    "                        grid[nx][ny] = 2\n",
    "                        rotten_oranges.append(n)\n",
    "        \n",
    "        if fresh_orange_count > 0:\n",
    "            return -1\n",
    "        else:\n",
    "            return minute_count"
   ]
  },
  {
   "cell_type": "code",
   "execution_count": 13,
   "id": "e8ae3fc7",
   "metadata": {},
   "outputs": [],
   "source": [
    "my_solution = Solution()"
   ]
  },
  {
   "cell_type": "code",
   "execution_count": 14,
   "id": "2e6a4c73",
   "metadata": {},
   "outputs": [
    {
     "name": "stdout",
     "output_type": "stream",
     "text": [
      "deque([[0, 0]])\n",
      "deque([(1, 0), (0, 1)])\n",
      "deque([(1, 1), (0, 2)])\n",
      "deque([(2, 1)])\n"
     ]
    },
    {
     "data": {
      "text/plain": [
       "True"
      ]
     },
     "execution_count": 14,
     "metadata": {},
     "output_type": "execute_result"
    }
   ],
   "source": [
    "grid = [[2,1,1],\n",
    "        [1,1,0],\n",
    "        [0,1,1]]\n",
    "my_solution.orangesRotting(grid) == 4"
   ]
  },
  {
   "cell_type": "code",
   "execution_count": 15,
   "id": "f9dffa80",
   "metadata": {},
   "outputs": [
    {
     "name": "stdout",
     "output_type": "stream",
     "text": [
      "deque([[0, 0]])\n",
      "deque([(0, 1)])\n",
      "deque([(1, 1), (0, 2)])\n",
      "deque([(1, 2)])\n",
      "deque([(2, 2)])\n"
     ]
    },
    {
     "data": {
      "text/plain": [
       "True"
      ]
     },
     "execution_count": 15,
     "metadata": {},
     "output_type": "execute_result"
    }
   ],
   "source": [
    "grid = [[2,1,1],\n",
    "        [0,1,1],\n",
    "        [1,0,1]]\n",
    "my_solution.orangesRotting(grid) == -1"
   ]
  },
  {
   "cell_type": "code",
   "execution_count": 10,
   "id": "22d75443",
   "metadata": {},
   "outputs": [
    {
     "data": {
      "text/plain": [
       "True"
      ]
     },
     "execution_count": 10,
     "metadata": {},
     "output_type": "execute_result"
    }
   ],
   "source": [
    "grid = [[0,2]]\n",
    "my_solution.orangesRotting(grid) == 0"
   ]
  },
  {
   "cell_type": "markdown",
   "id": "cfffdf9f",
   "metadata": {},
   "source": [
    "Reference: https://algo.monster/liteproblems/994"
   ]
  },
  {
   "cell_type": "code",
   "execution_count": null,
   "id": "f1f5f966",
   "metadata": {},
   "outputs": [],
   "source": []
  }
 ],
 "metadata": {
  "kernelspec": {
   "display_name": "Python 3 (ipykernel)",
   "language": "python",
   "name": "python3"
  },
  "language_info": {
   "codemirror_mode": {
    "name": "ipython",
    "version": 3
   },
   "file_extension": ".py",
   "mimetype": "text/x-python",
   "name": "python",
   "nbconvert_exporter": "python",
   "pygments_lexer": "ipython3",
   "version": "3.9.7"
  }
 },
 "nbformat": 4,
 "nbformat_minor": 5
}
