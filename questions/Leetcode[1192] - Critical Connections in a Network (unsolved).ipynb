{
 "cells": [
  {
   "cell_type": "markdown",
   "id": "62db4e11",
   "metadata": {},
   "source": [
    "## Problem Description\n",
    "\n",
    "There are n servers numbered from 0 to n - 1 connected by undirected server-to-server connections forming a network where connections[i] = [ai, bi] represents a connection between servers ai and bi. Any server can reach other servers directly or indirectly through the network.\n",
    "\n",
    "A critical connection is a connection that, if removed, will make some servers unable to reach some other server.\n",
    "\n",
    "Return all critical connections in the network in any order.\n",
    "\n",
    " \n",
    "\n",
    "### Example 1:\n",
    "\n",
    "Input: n = 4, connections = [[0,1],[1,2],[2,0],[1,3]]\n",
    "\n",
    "Output: [[1,3]]\n",
    "\n",
    "Explanation: [[3,1]] is also accepted.\n",
    "\n",
    "\n",
    "### Example 2:\n",
    "\n",
    "Input: n = 2, connections = [[0,1]]\n",
    "Output: [[0,1]]\n",
    "\n",
    "\n",
    "### Constraints:\n",
    "\n",
    "- 2 <= n <= 10<sup>5</sup>\n",
    "- n - 1 <= connections.length <= 10<sup>5</sup>\n",
    "- 0 <= a<sub>i</sub>, b<sub>i</sub> <= n - 1\n",
    "- a<sub>i</sub> != b<sub>i</sub>\n",
    "- There are no repeated connections."
   ]
  },
  {
   "cell_type": "code",
   "execution_count": null,
   "id": "43ce58f3",
   "metadata": {},
   "outputs": [],
   "source": []
  },
  {
   "cell_type": "code",
   "execution_count": null,
   "id": "e86ad73e",
   "metadata": {},
   "outputs": [],
   "source": []
  },
  {
   "cell_type": "code",
   "execution_count": null,
   "id": "43898925",
   "metadata": {},
   "outputs": [],
   "source": []
  },
  {
   "cell_type": "code",
   "execution_count": null,
   "id": "119c6342",
   "metadata": {},
   "outputs": [],
   "source": []
  },
  {
   "cell_type": "code",
   "execution_count": null,
   "id": "31c8a6c0",
   "metadata": {},
   "outputs": [],
   "source": []
  },
  {
   "cell_type": "code",
   "execution_count": null,
   "id": "c2b081c9",
   "metadata": {},
   "outputs": [],
   "source": []
  }
 ],
 "metadata": {
  "kernelspec": {
   "display_name": "Python 3 (ipykernel)",
   "language": "python",
   "name": "python3"
  },
  "language_info": {
   "codemirror_mode": {
    "name": "ipython",
    "version": 3
   },
   "file_extension": ".py",
   "mimetype": "text/x-python",
   "name": "python",
   "nbconvert_exporter": "python",
   "pygments_lexer": "ipython3",
   "version": "3.9.7"
  }
 },
 "nbformat": 4,
 "nbformat_minor": 5
}
