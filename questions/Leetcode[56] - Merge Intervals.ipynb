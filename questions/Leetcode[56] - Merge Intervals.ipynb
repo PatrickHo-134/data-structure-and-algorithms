{
 "cells": [
  {
   "cell_type": "markdown",
   "metadata": {},
   "source": [
    "## Problem description\n",
    "\n",
    "[Link to Leetcode](https://leetcode.com/problems/merge-intervals/description/?envType=problem-list-v2&envId=m7fyjzhj)\n",
    "\n",
    "Given an array of intervals where intervals[i] = [start<sub>i</sub>, end<sub>i</sub>], merge all overlapping intervals, and return an array of the non-overlapping intervals that cover all the intervals in the input.\n",
    "\n",
    "### Example 1:\n",
    "\n",
    "Input: intervals = [[1,3],[2,6],[8,10],[15,18]]\n",
    "\n",
    "Output: [[1,6],[8,10],[15,18]]\n",
    "\n",
    "Explanation: Since intervals [1,3] and [2,6] overlap, merge them into [1,6].\n",
    "\n",
    "### Example 2:\n",
    "\n",
    "Input: intervals = [[1,4],[4,5]]\n",
    "\n",
    "Output: [[1,5]]\n",
    "\n",
    "Explanation: Intervals [1,4] and [4,5] are considered overlapping.\n",
    " \n",
    "\n",
    "### Constraints:\n",
    "\n",
    "- 1 <= intervals.length <= 10<sup>4</sup>\n",
    "- intervals[i].length == 2\n",
    "- 0 <= start<sub>i</sub> <= end<sub>i</sub> <= 10<sup>4</sup>"
   ]
  },
  {
   "cell_type": "markdown",
   "metadata": {},
   "source": [
    "### Things to clarify here:\n",
    "- Are intervals are sorted in some manner?\n",
    "- Can there be more than 2 intervals overlap each other or there's always 2 intervals overlapping each other?\n",
    "- Are elements in each interval sorted in ascending order/descending order/not sorted?\n",
    "\n",
    "### As a result, there are some assumptions as follows:\n",
    "- Intervals are not sorted\n",
    "- Items in each interval are not sorted. They can be in descending order such as [4, 2]\n"
   ]
  },
  {
   "cell_type": "code",
   "execution_count": 166,
   "metadata": {},
   "outputs": [],
   "source": [
    "def isOverlapped(vec1, vec2):\n",
    "\n",
    "     if len(vec1) == 0 or len(vec2) == 0:\n",
    "          return False\n",
    "\n",
    "     # in case vectors are not in sorted order\n",
    "     vec1 = sorted(vec1)\n",
    "     vec2 = sorted(vec2)\n",
    "\n",
    "     rangeVec1 = list(range(vec1[0], vec1[1]+1))\n",
    "     rangeVec2 = list(range(vec2[0], vec2[1]+1))\n",
    "\n",
    "     intersection = list(set(rangeVec1) & set(rangeVec2))\n",
    "\n",
    "     if len(intersection) > 0:\n",
    "          return True\n",
    "     else:\n",
    "          return False\n",
    "\n",
    "def mergeVectors(interval1, interval2):\n",
    "     if not isOverlapped(interval1, interval2):\n",
    "          raise ValueError(\"The intervals fo not overlap\")\n",
    "\n",
    "     # in case vectors are not in sorted order\n",
    "     vec1 = sorted(interval1)\n",
    "     vec2 = sorted(interval2)\n",
    "\n",
    "     start = min(vec1[0], vec2[0])\n",
    "     stop = max(vec1[1], vec2[1])\n",
    "\n",
    "     return [start, stop]"
   ]
  },
  {
   "cell_type": "code",
   "execution_count": 164,
   "metadata": {},
   "outputs": [],
   "source": [
    "from typing import List\n",
    "\n",
    "class Solution:\n",
    "     def merge(self, intervals: List[List[int]]) -> List[List[int]]:\n",
    "          intervals = sorted(intervals, key=lambda x: x[0])\n",
    "\n",
    "          result = []\n",
    "          parentInterval = []\n",
    "\n",
    "          for i in range(len(intervals)):\n",
    "               if len(result) == 0:\n",
    "                    parentInterval = []\n",
    "               else:\n",
    "                    parentInterval = result[-1]\n",
    "\n",
    "               interval = intervals[i]\n",
    "\n",
    "               if not isOverlapped(parentInterval, interval):\n",
    "                    result.append(interval)\n",
    "               elif isOverlapped(parentInterval, interval):\n",
    "                    result[-1] = mergeVectors(parentInterval, interval)\n",
    "\n",
    "          return result"
   ]
  },
  {
   "cell_type": "code",
   "execution_count": 165,
   "metadata": {},
   "outputs": [
    {
     "name": "stderr",
     "output_type": "stream",
     "text": [
      ".\n",
      "----------------------------------------------------------------------\n",
      "Ran 1 test in 0.001s\n",
      "\n",
      "OK\n"
     ]
    },
    {
     "data": {
      "text/plain": [
       "<unittest.runner.TextTestResult run=1 errors=0 failures=0>"
      ]
     },
     "execution_count": 165,
     "metadata": {},
     "output_type": "execute_result"
    }
   ],
   "source": [
    "import unittest\n",
    "\n",
    "case1 = [[1,4],[0,4]]\n",
    "case2 = [[1,3],[2,6],[8,10],[15,18]]\n",
    "case3 = [[1,4],[4,5]]\n",
    "case4 = [[1,3]]\n",
    "case5 = [[1,4],[0,2],[3,5]]\n",
    "case6 = [[362,367],[314,315],[133,138],[434,443],[202,203],[144,145],[229,235],[205,212],[314,323],[128,129],[413,414],[342,345],[43,49],[333,342],[173,178],[386,391],[131,133],[157,163],[187,190],[186,186],[17,19],[63,69],[70,79],[386,391],[98,102],[236,239],[195,195],[338,338],[169,170],[151,153],[409,416],[377,377],[90,96],[156,165],[182,186],[371,372],[228,233],[297,306],[56,61],[184,190],[401,403],[221,228],[203,212],[39,43],[83,84],[66,68],[80,83],[32,32],[182,182],[300,306],[235,238],[267,272],[458,464],[114,120],[452,452],[372,375],[275,280],[302,302],[5,9],[54,62],[237,237],[432,439],[415,421],[340,347],[356,358],[165,168],[15,17],[259,265],[201,204],[192,197],[376,383],[210,211],[362,367],[481,488],[59,64],[307,315],[155,164],[465,467],[55,60],[20,24],[297,304],[207,210],[322,328],[139,142],[192,195],[28,36],[100,108],[71,76],[103,105],[34,38],[439,441],[162,168],[433,433],[368,369],[137,137],[105,112],[278,280],[452,452],[131,132],[475,480],[126,129],[95,104],[93,99],[394,403],[70,78]]\n",
    "\n",
    "expectedOutput1 = [[0, 4]]\n",
    "expectedOutput2 = [[1,6],[8,10],[15,18]]\n",
    "expectedOutput3 = [[1,5]]\n",
    "expectedOutput4 = [[1,3]]\n",
    "expectedOutput5 = [[0,5]]\n",
    "expectedOutput6 = [[5,9],[15,19],[20,24],[28,38],[39,49],[54,69],[70,79],[80,84],[90,112],[114,120],[126,129],[131,138],[139,142],[144,145],[151,153],[155,168],[169,170],[173,178],[182,190],[192,197],[201,212],[221,239],[259,265],[267,272],[275,280],[297,306],[307,328],[333,347],[356,358],[362,367],[368,369],[371,375],[376,383],[386,391],[394,403],[409,421],[432,443],[452,452],[458,464],[465,467],[475,480],[481,488]]\n",
    "\n",
    "class TestSolution(unittest.TestCase):\n",
    "     def test_merge(self):\n",
    "          solution = Solution()\n",
    "          self.assertEqual(solution.merge(case1), expectedOutput1)\n",
    "          self.assertEqual(solution.merge(case2), expectedOutput2)\n",
    "          self.assertEqual(solution.merge(case3), expectedOutput3)\n",
    "          self.assertEqual(solution.merge(case4), expectedOutput4)\n",
    "          self.assertEqual(solution.merge(case5), expectedOutput5)\n",
    "          self.assertEqual(solution.merge(case6), expectedOutput6)\n",
    "\n",
    "unittest.TextTestRunner().run(unittest.TestLoader().loadTestsFromTestCase(TestSolution))"
   ]
  }
 ],
 "metadata": {
  "kernelspec": {
   "display_name": "Python 3 (ipykernel)",
   "language": "python",
   "name": "python3"
  }
 },
 "nbformat": 4,
 "nbformat_minor": 2
}
