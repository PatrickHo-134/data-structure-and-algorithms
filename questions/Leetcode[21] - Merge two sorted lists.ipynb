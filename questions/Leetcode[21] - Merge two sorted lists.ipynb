{
 "cells": [
  {
   "cell_type": "markdown",
   "id": "d3f12abd",
   "metadata": {},
   "source": [
    "## Problem Description\n",
    "\n",
    "You are given the heads of two sorted linked lists `list1` and `list2`.\n",
    "\n",
    "Merge the two lists into one sorted list. The list should be made by splicing together the nodes of the first two lists.\n",
    "\n",
    "Return the head of the merged linked list.\n",
    "\n",
    "![image](../images/merge_ex1.jpg)\n",
    "\n",
    "### Constraints:\n",
    "\n",
    "The number of nodes in both lists is in the range `[0, 50]`.\n",
    "\n",
    "`-100 <= Node.val <= 100`\n",
    "\n",
    "Both `list1` and `list2` are sorted in non-decreasing order."
   ]
  },
  {
   "cell_type": "markdown",
   "id": "ce0ee66d",
   "metadata": {},
   "source": [
    "### Questions to ask for this problem:\n",
    "- What is splicing operation?\n",
    "- Do 2 given lists have the same length or different lengths?"
   ]
  },
  {
   "cell_type": "code",
   "execution_count": 11,
   "id": "2986e09a",
   "metadata": {},
   "outputs": [],
   "source": [
    "from typing import List, Optional\n",
    "\n",
    "class ListNode:\n",
    "    def __init__(self, val=0, next=None):\n",
    "        self.val = val\n",
    "        self.next = next\n",
    "\n",
    "class Solution:\n",
    "    def mergeTwoLists(self, list1: Optional[ListNode], list2: Optional[ListNode]) -> Optional[ListNode]:\n",
    "        d = ListNode()\n",
    "        cur = d\n",
    "\n",
    "        while list1 and list2:\n",
    "            if list1.val < list2.val:\n",
    "                cur.next = list1\n",
    "                cur = list1\n",
    "                list1 = list1.next\n",
    "            else:\n",
    "                cur.next = list2\n",
    "                cur = list2\n",
    "                list2 = list2.next\n",
    "\n",
    "        cur.next = list1 if list1 else list2\n",
    "\n",
    "        return d.next"
   ]
  },
  {
   "cell_type": "markdown",
   "id": "905bec4a",
   "metadata": {},
   "source": [
    "### Understanding Linked List"
   ]
  },
  {
   "cell_type": "code",
   "execution_count": null,
   "id": "4e8a0c19",
   "metadata": {},
   "outputs": [],
   "source": [
    "# Class definition for Node\n",
    "class Node:\n",
    "    # Initialize the node with a key\n",
    "    def __init__(self, key):\n",
    "        self.key = key\n",
    "        self.next = None\n",
    "\n",
    "    def __str__(self):\n",
    "        return f'Node[key={self.key}]'"
   ]
  },
  {
   "cell_type": "code",
   "execution_count": null,
   "id": "449503e1",
   "metadata": {},
   "outputs": [],
   "source": [
    "class LinkedList:\n",
    "    # Initialize the linked list with a head node\n",
    "    def __init__(self):\n",
    "        self.head = None\n",
    "        self.key_list = [] ## extra feature to understand the representation of linked list\n",
    "\n",
    "    # Add a new node with key \"new_key\" at the beginning of the linked list\n",
    "    def push(self, new_key):\n",
    "        new_node = Node(new_key)\n",
    "        new_node.next = self.head\n",
    "        self.head = new_node\n",
    "\n",
    "        self.key_list.insert(0, new_key)\n",
    "\n",
    "    def insertAfter(self, prev_node, new_key):\n",
    "        if prev_node is None:\n",
    "            print(\"The given previous node must inLinkedList.\")\n",
    "            return\n",
    "\n",
    "        # Update pointer\n",
    "        new_node = Node(new_key)\n",
    "\n",
    "        # Make next of new Node as next of prev_node\n",
    "        new_node.next = prev_node.next\n",
    "\n",
    "        # Make next of prev_node as new_node\n",
    "        prev_node.next = new_node\n",
    "\n",
    "        # Update key_list\n",
    "        prev_node_idx = self.key_list.index(prev_node.key)\n",
    "        self.key_list.insert(prev_node_idx, new_key)\n",
    "\n",
    "    def append(self, new_key):\n",
    "        new_node = Node(new_key)\n",
    "        current_node = self.head\n",
    "\n",
    "        if current_node is None:\n",
    "            self.head = new_node\n",
    "\n",
    "        while current_node:\n",
    "            if current_node.next is None:\n",
    "                current_node.next = new_node\n",
    "                break\n",
    "            else:\n",
    "                current_node = current_node.next\n",
    "\n",
    "        self.key_list.append(new_key)\n",
    "\n",
    "    # Utility functions\n",
    "\n",
    "    def get_head(self):\n",
    "        return str(self.head) ## f'head -> Node[{self.head.val}]'\n",
    "\n",
    "    def printList(self):\n",
    "        temp = self.head\n",
    "        while temp:\n",
    "            print(temp.key, end=\" \")\n",
    "            temp = temp.next\n",
    "\n",
    "    def getNth(self, index):\n",
    "        current_node = self.head  # Initialise temp\n",
    "        count = 0  # Index of current node\n",
    "\n",
    "        # Loop while end of linked list is not reached\n",
    "        while (current_node):\n",
    "            if (count == index):\n",
    "                return current_node\n",
    "            count += 1\n",
    "            current_node = current_node.next\n",
    "\n",
    "        # if we get to this line, the caller was asking\n",
    "        # for a non-existent element so we assert fail\n",
    "        assert(false)\n",
    "        return 0\n",
    "\n",
    "    def __str__(self):\n",
    "        return f'head -> {self.key_list}'"
   ]
  },
  {
   "cell_type": "code",
   "execution_count": 4,
   "id": "6e400cd6",
   "metadata": {},
   "outputs": [
    {
     "name": "stdout",
     "output_type": "stream",
     "text": [
      "head -> [1, 2, 4, 7]\n"
     ]
    }
   ],
   "source": [
    "# Create a linked list object\n",
    "llist_1 = LinkedList()\n",
    "\n",
    "# Add new nodes to the linked list\n",
    "llist_1.append(1)\n",
    "llist_1.append(2)\n",
    "llist_1.append(4)\n",
    "llist_1.append(7)\n",
    "\n",
    "print(llist_1)"
   ]
  },
  {
   "cell_type": "code",
   "execution_count": 65,
   "id": "cca525a2",
   "metadata": {},
   "outputs": [
    {
     "name": "stdout",
     "output_type": "stream",
     "text": [
      "head -> [1, 2, 4, 7]\n"
     ]
    }
   ],
   "source": [
    "print(llist_1)"
   ]
  },
  {
   "cell_type": "code",
   "execution_count": null,
   "id": "eec6a74a",
   "metadata": {},
   "outputs": [
    {
     "name": "stdout",
     "output_type": "stream",
     "text": [
      "head -> [1, 3, 5, 7]\n"
     ]
    }
   ],
   "source": [
    "# Create a linked list object\n",
    "llist_2 = LinkedList()\n",
    "\n",
    "# Add new nodes to the linked list\n",
    "llist_2.append(1)\n",
    "llist_2.append(3)\n",
    "llist_2.append(5)\n",
    "llist_2.append(7)\n",
    "\n",
    "print(llist_2)"
   ]
  },
  {
   "cell_type": "markdown",
   "id": "6945500a",
   "metadata": {},
   "source": [
    "### Brute force solution\n",
    "- Collect all the keys of 2 lists\n",
    "- Put them all in 1 list\n",
    "- Sort the list\n",
    "- Build a new linked list from the sorted keys"
   ]
  },
  {
   "cell_type": "code",
   "execution_count": 67,
   "id": "51b426d6",
   "metadata": {},
   "outputs": [],
   "source": [
    "# Step 1\n",
    "v1 = []\n",
    "v2 = []\n",
    "\n",
    "current_node = llist_1.head\n",
    "while current_node:\n",
    "    v1.append(current_node.key)\n",
    "    current_node = current_node.next\n",
    "\n",
    "current_node = llist_2.head\n",
    "while current_node:\n",
    "    v2.append(current_node.key)\n",
    "    current_node = current_node.next"
   ]
  },
  {
   "cell_type": "code",
   "execution_count": 68,
   "id": "9cdbd926",
   "metadata": {},
   "outputs": [],
   "source": [
    "# Step 2\n",
    "all_keys = v1 + v2\n",
    "\n",
    "# Step 3\n",
    "sorted_keys = sorted(all_keys)"
   ]
  },
  {
   "cell_type": "code",
   "execution_count": null,
   "id": "82b1d7dd",
   "metadata": {},
   "outputs": [
    {
     "name": "stdout",
     "output_type": "stream",
     "text": [
      "Node[key=1] Node[key=1] Node[key=2] Node[key=3] Node[key=4] Node[key=5] Node[key=7] Node[key=7] "
     ]
    }
   ],
   "source": [
    "# Step 4\n",
    "sorted_list = LinkedList()\n",
    "\n",
    "n = len(sorted_keys)\n",
    "for i in range(n):\n",
    "    key = sorted_keys[i]\n",
    "    new_node = Node(key)\n",
    "\n",
    "    if (i + 1) == n:\n",
    "        new_node.next = None\n",
    "    else:\n",
    "        next_key = sorted_keys[i+1]\n",
    "        next_node = Node(next_key)\n",
    "        new_node.next = next_node\n",
    "\n",
    "    sorted_list.append(new_node)\n",
    "\n",
    "sorted_list.printList()"
   ]
  },
  {
   "cell_type": "code",
   "execution_count": 70,
   "id": "0e51537d",
   "metadata": {},
   "outputs": [
    {
     "name": "stdout",
     "output_type": "stream",
     "text": [
      "head -> [<__main__.Node object at 0x7fb2b86d2e50>, <__main__.Node object at 0x7fb2b86d24f0>, <__main__.Node object at 0x7fb2b86d2ee0>, <__main__.Node object at 0x7fb2b86d2be0>, <__main__.Node object at 0x7fb2b86d21f0>, <__main__.Node object at 0x7fb2b86d2c70>, <__main__.Node object at 0x7fb2b86a5d90>, <__main__.Node object at 0x7fb2b86a55e0>]\n"
     ]
    }
   ],
   "source": [
    "print(sorted_list)"
   ]
  },
  {
   "cell_type": "markdown",
   "id": "b0cd89a8",
   "metadata": {},
   "source": [
    "### Solution\n",
    "https://www.geeksforgeeks.org/merge-two-sorted-linked-lists/"
   ]
  }
 ],
 "metadata": {
  "kernelspec": {
   "display_name": "Python 3 (ipykernel)",
   "language": "python",
   "name": "python3"
  },
  "language_info": {
   "codemirror_mode": {
    "name": "ipython",
    "version": 3
   },
   "file_extension": ".py",
   "mimetype": "text/x-python",
   "name": "python",
   "nbconvert_exporter": "python",
   "pygments_lexer": "ipython3",
   "version": "3.9.7"
  }
 },
 "nbformat": 4,
 "nbformat_minor": 5
}
