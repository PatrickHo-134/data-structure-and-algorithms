{
 "cells": [
  {
   "cell_type": "markdown",
   "id": "b207706f",
   "metadata": {},
   "source": [
    "## Problem description\n",
    "\n",
    "[Link to Leetcode](https://leetcode.com/problems/most-common-word/description/?envType=problem-list-v2&envId=m7fyjzhj)\n",
    "\n",
    "Given a string `paragraph` and a string array of the banned words `banned`, return the most frequent word that is not banned. It is guaranteed there is at least one word that is not banned, and that the answer is unique.\n",
    "\n",
    "The words in `paragraph` are case-insensitive and the answer should be returned in lowercase.\n",
    "\n",
    "## Example 1:\n",
    "\n",
    "### Input: \n",
    "\n",
    "paragraph = \"Bob hit a ball, the hit BALL flew far after it was hit.\", \n",
    "\n",
    "banned = [\"hit\"]\n",
    "\n",
    "### Output: \"ball\"\n",
    "\n",
    "### Explanation: \n",
    "\n",
    "\"hit\" occurs 3 times, but it is a banned word.\n",
    "\n",
    "\"ball\" occurs twice (and no other word does), so it is the most frequent non-banned word in the paragraph. \n",
    "\n",
    "Note that words in the paragraph are not case sensitive,\n",
    "that punctuation is ignored (even if adjacent to words, such as \"ball,\"), and that \"hit\" isn't the answer even though it occurs more because it is banned.\n",
    "\n",
    "\n",
    "## Constraints:\n",
    "\n",
    "- 1 <= `paragraph.length` <= 1000\n",
    "- paragraph consists of English letters, space `' '`, or one of the symbols: `\"!?',;.\"`.\n",
    "- 0 <= `banned.length` <= 100\n",
    "- 1 <= `banned[i].length` <= 10\n",
    "- `banned[i]` consists of only lowercase English letters."
   ]
  },
  {
   "cell_type": "code",
   "execution_count": 26,
   "id": "41b136cf",
   "metadata": {},
   "outputs": [],
   "source": [
    "# Step 1: remove all symbol such as !?\\'\";, from the string using regex\n",
    "\n",
    "import re\n",
    "\n",
    "def split_string_to_words(s):\n",
    "    # Remove symbols !?',;.\n",
    "    clean_string = re.sub(r'[!?\\'\";,.]', ' ', s)\n",
    "    # Split the string into words\n",
    "    words = clean_string.split()\n",
    "    \n",
    "    return words\n",
    "\n",
    "## A different approach to split words\n",
    "# def split_string_to_words(s):\n",
    "#     # Define the symbols to exclude\n",
    "#     exclude_symbols = \"!?',;.\"\n",
    "#     # Build a new string excluding the unwanted symbols\n",
    "#     clean_string = ''.join(char for char in s if char not in exclude_symbols)\n",
    "#     # Split the string into words\n",
    "#     words = clean_string.split()\n",
    "#     return words"
   ]
  },
  {
   "cell_type": "code",
   "execution_count": 40,
   "id": "435714e2",
   "metadata": {},
   "outputs": [],
   "source": [
    "import re\n",
    "from typing import List\n",
    "\n",
    "class Solution:\n",
    "    def split_string_to_words(self, s):\n",
    "        # Remove symbols !?',;.\n",
    "        clean_string = re.sub(r'[!?\\'\";,.]', ' ', s)\n",
    "        # Split the string into words\n",
    "        words = clean_string.split()\n",
    "    \n",
    "        return words\n",
    "\n",
    "    def process_word(self, dictionary, banned, word):\n",
    "            if dictionary.get(word):\n",
    "                dictionary[word] += 1\n",
    "            elif word not in banned:\n",
    "                dictionary[word] = 1\n",
    "            else:\n",
    "                dictionary\n",
    "    \n",
    "            return dictionary\n",
    "\n",
    "    def mostCommonWord(self, paragraph: str, banned: List[str]) -> str:\n",
    "        result = {}\n",
    "        words = self.split_string_to_words(paragraph.lower())\n",
    "\n",
    "        for w in words:\n",
    "            self.process_word(result, banned, w)\n",
    "    \n",
    "        most_common = max(result, key=result.get)\n",
    "    \n",
    "        return most_common"
   ]
  },
  {
   "cell_type": "code",
   "execution_count": 41,
   "id": "d2ed0532",
   "metadata": {},
   "outputs": [],
   "source": [
    "my_solution = Solution()"
   ]
  },
  {
   "cell_type": "code",
   "execution_count": 42,
   "id": "2f8a0a1b",
   "metadata": {},
   "outputs": [
    {
     "data": {
      "text/plain": [
       "'ball'"
      ]
     },
     "execution_count": 42,
     "metadata": {},
     "output_type": "execute_result"
    }
   ],
   "source": [
    "## Test case 1 -> expected: \"ball\"\n",
    "paragraph_1 = \"Bob hit a ball, the hit BALL flew far after it was hit.\"\n",
    "banned_1 = [\"hit\"]\n",
    "\n",
    "my_solution.mostCommonWord(paragraph_1, banned_1)"
   ]
  },
  {
   "cell_type": "code",
   "execution_count": 43,
   "id": "bae41a31",
   "metadata": {},
   "outputs": [
    {
     "data": {
      "text/plain": [
       "'b'"
      ]
     },
     "execution_count": 43,
     "metadata": {},
     "output_type": "execute_result"
    }
   ],
   "source": [
    "## Test case 2 -> expected: \"b\"\n",
    "paragraph_2 = \"a, a, a, a, b,b,b,c, c\"\n",
    "banned_2 = [\"a\"]\n",
    "\n",
    "my_solution.mostCommonWord(paragraph_2, banned_2)"
   ]
  },
  {
   "cell_type": "code",
   "execution_count": null,
   "id": "197eb15c",
   "metadata": {},
   "outputs": [],
   "source": []
  }
 ],
 "metadata": {
  "kernelspec": {
   "display_name": "Python 3 (ipykernel)",
   "language": "python",
   "name": "python3"
  },
  "language_info": {
   "codemirror_mode": {
    "name": "ipython",
    "version": 3
   },
   "file_extension": ".py",
   "mimetype": "text/x-python",
   "name": "python",
   "nbconvert_exporter": "python",
   "pygments_lexer": "ipython3",
   "version": "3.9.7"
  }
 },
 "nbformat": 4,
 "nbformat_minor": 5
}
