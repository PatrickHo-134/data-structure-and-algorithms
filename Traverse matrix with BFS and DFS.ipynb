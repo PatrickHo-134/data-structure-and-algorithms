{
 "cells": [
  {
   "cell_type": "markdown",
   "id": "0a34512c",
   "metadata": {},
   "source": [
    "## Main difference\n",
    "- BFS:  Tries to **explore all the neighbors** it can reach from the current node. It will use a **queue** data structure.\n",
    "\n",
    "- DFS:  Tries to **reach the farthest node** from the current node and come back (backtrack) to the current node to explore its other neighbors. This will use a **stack** data structure.\n",
    "\n",
    "## When to use BFS or DFS?\n",
    "- Most of the problems can be solved using either BFS or DFS.\n",
    "- But there are problems when we need to decide to either use DFS or BFS for a faster solution.\n",
    "\n",
    "### Some guidelines to help decide when to use BFS or DFS:\n",
    "\n",
    "#### When to Use BFS:\n",
    "1. Shortest Path Problems:\n",
    "\n",
    "    - BFS is ideal for finding the shortest path in an unweighted graph or grid because it explores all neighbors at the present depth level before moving on to nodes at the next depth level. \n",
    "    - Example: Finding the shortest path in a maze.\n",
    "\n",
    "\n",
    "2. Level Order Traversal:\n",
    "\n",
    "    - BFS is useful for problems that require processing nodes level by level.\n",
    "    - Example: Printing all nodes in a tree by levels.\n",
    "\n",
    "\n",
    "3. When the Target is Close to the Start:\n",
    "\n",
    "    - If the solution or target node is likely to be close to the starting node, BFS can find it quickly.\n",
    "\n",
    "\n",
    "#### When to Use DFS:\n",
    "1. Path Finding to All Nodes:\n",
    "\n",
    "    - DFS is suitable for exploring all possible paths in a graph or checking connectivity.\n",
    "    - Example: Detecting cycles in a graph.\n",
    "\n",
    "\n",
    "2. Memory Constraints:\n",
    "\n",
    "    - DFS can be more memory efficient in some cases because it uses a stack and explores one path deeply before backtracking.\n",
    "    - Example: Large search space with limited memory.\n",
    "\n",
    "\n",
    "3. Topological Sorting:\n",
    "\n",
    "    - DFS is used in algorithms like topological sorting of a Directed Acyclic Graph (DAG).\n",
    "\n",
    "\n",
    "4. Finding Connected Components:\n",
    "\n",
    "    - DFS can be used to find all connected components in a graph.\n",
    "\n",
    "\n",
    "5. When the Target is Far from the Start:\n",
    "\n",
    "    - If the solution or target node is likely to be far from the starting node, DFS might find it faster."
   ]
  },
  {
   "cell_type": "markdown",
   "id": "625cfc42",
   "metadata": {},
   "source": [
    "### Example problem for using BFS: \n",
    "\n",
    "[Leetcode[994] - Rotting Oranges](https://leetcode.com/problems/rotting-oranges/description/?envType=problem-list-v2&envId=m7fyjzhj&)"
   ]
  },
  {
   "cell_type": "code",
   "execution_count": 63,
   "id": "9304526a",
   "metadata": {},
   "outputs": [
    {
     "name": "stdout",
     "output_type": "stream",
     "text": [
      "Visited (0, 0) with value 1\n",
      "Visited (1, 0) with value 1\n",
      "Visited (0, 1) with value 1\n",
      "Visited (1, 1) with value 1\n",
      "Visited (0, 2) with value 1\n",
      "Visited (2, 1) with value 1\n",
      "Visited (3, 1) with value 1\n",
      "Visited (2, 2) with value 1\n",
      "Visited (3, 2) with value 1\n"
     ]
    }
   ],
   "source": [
    "from collections import deque\n",
    "\n",
    "def bfs(matrix, start):\n",
    "    rows, cols = len(matrix), len(matrix[0])\n",
    "    visited = [[False for _ in range(cols)] for _ in range(rows)]\n",
    "    queue = deque([start]) # FIFO (First In First Out)\n",
    "    \n",
    "    directions = [(-1, 0), (1, 0), (0, -1), (0, 1)]  # Up, Down, Left, Right\n",
    "    \n",
    "    while queue:\n",
    "        x, y = queue.popleft()\n",
    "        \n",
    "        if not visited[x][y]:\n",
    "            visited[x][y] = True\n",
    "            print(f\"Visited ({x}, {y}) with value {matrix[x][y]}\")\n",
    "            \n",
    "            for dx, dy in directions:\n",
    "                nx, ny = x + dx, y + dy\n",
    "                if 0 <= nx < rows and 0 <= ny < cols and not visited[nx][ny] and matrix[nx][ny] == 1:\n",
    "                    queue.append((nx, ny))\n",
    "\n",
    "# Example usage\n",
    "grid1 = [\n",
    "    [1, 1, 1, 0],\n",
    "    [1, 1, 0, 1],\n",
    "    [0, 1, 1, 0],\n",
    "    [0, 1, 1, 0]\n",
    "]\n",
    "\n",
    "# Starting BFS from (0, 0)\n",
    "bfs(grid1, (0, 0))"
   ]
  },
  {
   "cell_type": "markdown",
   "id": "10135c47",
   "metadata": {},
   "source": [
    "### Example problem:\n",
    "[Leetcode[547] - Number of Provinces](https://leetcode.com/problems/number-of-provinces/description/?envType=problem-list-v2&envId=m7fyjzhj&)"
   ]
  },
  {
   "cell_type": "code",
   "execution_count": 65,
   "id": "1328e28f",
   "metadata": {},
   "outputs": [
    {
     "name": "stdout",
     "output_type": "stream",
     "text": [
      "Visited (0, 0) with value 1\n",
      "Visited (0, 1) with value 1\n",
      "Visited (0, 2) with value 1\n",
      "Visited (1, 0) with value 1\n",
      "Visited (2, 0) with value 1\n"
     ]
    }
   ],
   "source": [
    "# Using DFS to visit all nodes of a province\n",
    "\n",
    "def dfs(matrix, start):\n",
    "    rows, cols = len(matrix), len(matrix[0])\n",
    "    visited = [[False for _ in range(cols)] for _ in range(rows)]\n",
    "    stack = [start] # LIFO (Last In First Out)\n",
    "    \n",
    "    directions = [(-1, 0), (1, 0), (0, -1), (0, 1)]  # Up, Down, Left, Right\n",
    "    \n",
    "    while stack:\n",
    "        x, y = stack.pop()\n",
    "        \n",
    "        if not visited[x][y]:\n",
    "            visited[x][y] = True\n",
    "            print(f\"Visited ({x}, {y}) with value {matrix[x][y]}\")\n",
    "            \n",
    "            for dx, dy in directions:\n",
    "                nx, ny = x + dx, y + dy\n",
    "                if 0 <= nx < rows and 0 <= ny < cols and not visited[nx][ny] and matrix[nx][ny]==1:\n",
    "                    stack.append((nx, ny))\n",
    "\n",
    "# Example usage\n",
    "grid2 = [\n",
    "    [1, 1, 1, 0],\n",
    "    [1, 0, 0, 0],\n",
    "    [1, 0, 1, 0],\n",
    "    [0, 0, 1, 0]\n",
    "]\n",
    "\n",
    "# Starting DFS from (0, 0)\n",
    "dfs(grid2, (0, 0))"
   ]
  },
  {
   "cell_type": "markdown",
   "id": "1aecdbb9",
   "metadata": {},
   "source": [
    "## References:\n",
    "- https://www.geeksforgeeks.org/when-to-use-dfs-or-bfs-to-solve-a-graph-problem/\n",
    "- https://www.geeksforgeeks.org/difference-between-bfs-and-dfs/"
   ]
  }
 ],
 "metadata": {
  "kernelspec": {
   "display_name": "Python 3 (ipykernel)",
   "language": "python",
   "name": "python3"
  },
  "language_info": {
   "codemirror_mode": {
    "name": "ipython",
    "version": 3
   },
   "file_extension": ".py",
   "mimetype": "text/x-python",
   "name": "python",
   "nbconvert_exporter": "python",
   "pygments_lexer": "ipython3",
   "version": "3.9.7"
  }
 },
 "nbformat": 4,
 "nbformat_minor": 5
}
