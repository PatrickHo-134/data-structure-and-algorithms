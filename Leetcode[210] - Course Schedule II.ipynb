{
 "cells": [
  {
   "cell_type": "markdown",
   "id": "68fb9c20",
   "metadata": {},
   "source": [
    "## Problem Description\n",
    "\n",
    "There are a total of `numCourses` courses you have to take, labeled from `0` to `numCourses - 1`. You are given an array prerequisites where `prerequisites[i] = [ai, bi]` indicates that you must take course bi first if you want to take course ai.\n",
    "\n",
    "- For example, the pair `[0, 1]`, indicates that to take course `0` you have to first take course `1`.\n",
    "\n",
    "Return the ordering of courses you should take to finish all courses. If there are many valid answers, return any of them. If it is impossible to finish all courses, return an empty array.\n",
    "\n",
    " \n",
    "\n",
    "## Example 1:\n",
    "\n",
    "Input: numCourses = 2, prerequisites = [[1,0]]\n",
    "\n",
    "Output: [0,1]\n",
    "\n",
    "Explanation: There are a total of 2 courses to take. To take course 1 you should have finished course 0. So the correct course order is [0,1].\n",
    "\n",
    "\n",
    "## Example 2:\n",
    "\n",
    "Input: numCourses = 4, prerequisites = [[1,0],[2,0],[3,1],[3,2]]\n",
    "\n",
    "Output: [0,2,1,3]\n",
    "\n",
    "Explanation: There are a total of 4 courses to take. To take course 3 you should have finished both courses 1 and 2. Both courses 1 and 2 should be taken after you finished course 0.\n",
    "So one correct course order is [0,1,2,3]. Another correct ordering is [0,2,1,3].\n",
    "\n",
    "\n",
    "## Example 3:\n",
    "\n",
    "Input: numCourses = 1, prerequisites = []\n",
    "Output: [0]\n",
    "\n",
    "\n",
    "## Constraints:\n",
    "\n",
    "- `1 <= numCourses <= 2000`\n",
    "\n",
    "- `0 <= prerequisites.length <= numCourses * (numCourses - 1)`\n",
    "\n",
    "- `prerequisites[i].length == 2`\n",
    "\n",
    "- `0 <= ai, bi < numCourses`\n",
    "\n",
    "- `ai != bi`\n",
    "\n",
    "- All the pairs `[ai, bi]` are distinct.\n"
   ]
  },
  {
   "cell_type": "code",
   "execution_count": 1,
   "id": "d6fe4140",
   "metadata": {},
   "outputs": [],
   "source": [
    "numCourses = 4\n",
    "prerequisites = [[1,0],[2,0],[3,1],[3,2]]"
   ]
  },
  {
   "cell_type": "code",
   "execution_count": 3,
   "id": "dbed66e4",
   "metadata": {},
   "outputs": [
    {
     "data": {
      "text/plain": [
       "[0, 1, 2, 3]"
      ]
     },
     "execution_count": 3,
     "metadata": {},
     "output_type": "execute_result"
    }
   ],
   "source": [
    "courses = list(range(0,4))\n",
    "courses"
   ]
  },
  {
   "cell_type": "markdown",
   "id": "6dfc2be2",
   "metadata": {},
   "source": [
    "- find the first course to take\n",
    "    -> the course that doens't have any prerequisite\n",
    "- find next courses\n",
    "    -> the course that has prerequisite\n",
    "- BFS/DFS to search throught the matrix"
   ]
  },
  {
   "cell_type": "code",
   "execution_count": 59,
   "id": "4881832a",
   "metadata": {},
   "outputs": [],
   "source": [
    "def dfs(graph, prereq):\n",
    "    for course in graph[prereq]:\n",
    "        if not visited[course]:\n",
    "            visited[course] = True\n",
    "            if not dfs(graph, course): \n",
    "                return False  # unable to finish course\n",
    "        elif course not in finished:          # cycle in graph\n",
    "            return False\n",
    "    finished.append(prereq)\n",
    "    return True"
   ]
  },
  {
   "cell_type": "code",
   "execution_count": 61,
   "id": "018d66c2",
   "metadata": {},
   "outputs": [],
   "source": [
    "from typing import List\n",
    "\n",
    "def findOrder(numCourses: int, prerequisites: List[List[int]]) -> List[int]:\n",
    "    visited = [False for _ in range(numCourses)]\n",
    "    finished = []\n",
    "    graph = defaultdict(list)\n",
    "    \n",
    "    for course, prereq in prerequisites:\n",
    "        graph[prereq].append(course)\n",
    "    \n",
    "    def dfs(prereq):\n",
    "        for course in graph[prereq]:\n",
    "            if not visited[course]:\n",
    "                visited[course] = True\n",
    "                if not dfs(course): \n",
    "                    return False  # unable to finish course\n",
    "            elif course not in finished:          # cycle in graph\n",
    "                return False\n",
    "        finished.append(prereq)\n",
    "        return True\n",
    "        \n",
    "    for i in range(numCourses):   # visit all trees in graph\n",
    "        if not visited[i]:\n",
    "            visited[i] = True\n",
    "            if not dfs(i): \n",
    "                return []\n",
    "\n",
    "    finished.reverse()    # topological ordering = reverse finish time\n",
    "    return finished "
   ]
  },
  {
   "cell_type": "code",
   "execution_count": 62,
   "id": "bc27edb5",
   "metadata": {},
   "outputs": [
    {
     "data": {
      "text/plain": [
       "[0, 2, 1, 3]"
      ]
     },
     "execution_count": 62,
     "metadata": {},
     "output_type": "execute_result"
    }
   ],
   "source": [
    "findOrder(4, prerequisites)"
   ]
  },
  {
   "cell_type": "code",
   "execution_count": 12,
   "id": "9c5c2795",
   "metadata": {},
   "outputs": [
    {
     "data": {
      "text/plain": [
       "defaultdict(list, {})"
      ]
     },
     "execution_count": 12,
     "metadata": {},
     "output_type": "execute_result"
    }
   ],
   "source": [
    "from collections import defaultdict\n",
    "d = defaultdict(list)\n",
    "d"
   ]
  },
  {
   "cell_type": "code",
   "execution_count": 43,
   "id": "b58fe156",
   "metadata": {},
   "outputs": [
    {
     "data": {
      "text/plain": [
       "{0: [1, 2], 1: [3], 2: [3], 3: []}"
      ]
     },
     "execution_count": 43,
     "metadata": {},
     "output_type": "execute_result"
    }
   ],
   "source": [
    "visited = [False for _ in range(numCourses)]\n",
    "finished = []\n",
    "graph = {i: [] for i in range(4)}\n",
    "    \n",
    "for course, prereq in prerequisites:\n",
    "    graph[prereq].append(course)\n",
    "\n",
    "graph"
   ]
  },
  {
   "cell_type": "code",
   "execution_count": 66,
   "id": "08969e8d",
   "metadata": {},
   "outputs": [],
   "source": [
    "def build_graph(numCourse, prerequisites):\n",
    "    graph = {i: [] for i in range(numCourse)}\n",
    "    \n",
    "    for course, prereq in prerequisites:\n",
    "        graph[prereq].append(course)\n",
    "    \n",
    "    return graph"
   ]
  },
  {
   "cell_type": "code",
   "execution_count": 67,
   "id": "644a2d05",
   "metadata": {},
   "outputs": [
    {
     "data": {
      "text/plain": [
       "{0: [1, 2], 1: [3], 2: [3], 3: [], 4: []}"
      ]
     },
     "execution_count": 67,
     "metadata": {},
     "output_type": "execute_result"
    }
   ],
   "source": [
    "build_graph(5, prerequisites)"
   ]
  },
  {
   "cell_type": "code",
   "execution_count": null,
   "id": "0fae8bef",
   "metadata": {},
   "outputs": [],
   "source": []
  },
  {
   "cell_type": "code",
   "execution_count": 37,
   "id": "5c215582",
   "metadata": {},
   "outputs": [
    {
     "data": {
      "text/plain": [
       "{0: [], 1: [], 2: [], 3: []}"
      ]
     },
     "execution_count": 37,
     "metadata": {},
     "output_type": "execute_result"
    }
   ],
   "source": [
    "graph = {i: [] for i in range(4)}\n",
    "graph"
   ]
  },
  {
   "cell_type": "markdown",
   "id": "f8431a14",
   "metadata": {},
   "source": [
    "0 -> [1,2]\n",
    "1 -> [3]\n",
    "2 -> [3]"
   ]
  },
  {
   "cell_type": "code",
   "execution_count": 46,
   "id": "3af450b2",
   "metadata": {},
   "outputs": [
    {
     "name": "stdout",
     "output_type": "stream",
     "text": [
      "1\n",
      "2\n"
     ]
    }
   ],
   "source": [
    "for course in graph[0]:\n",
    "    print(course)"
   ]
  },
  {
   "cell_type": "code",
   "execution_count": 48,
   "id": "2820a050",
   "metadata": {},
   "outputs": [],
   "source": [
    "def dfs(graph, prereq):\n",
    "    for course in graph[prereq]:\n",
    "        if not visited[course]:\n",
    "            visited[course] = True\n",
    "            if not dfs(graph, course): \n",
    "                return False  # unable to finish course\n",
    "        elif course not in finished:          # cycle in graph\n",
    "            return False\n",
    "    finished.append(prereq)\n",
    "    return True"
   ]
  },
  {
   "cell_type": "code",
   "execution_count": 50,
   "id": "506464aa",
   "metadata": {},
   "outputs": [
    {
     "data": {
      "text/plain": [
       "True"
      ]
     },
     "execution_count": 50,
     "metadata": {},
     "output_type": "execute_result"
    }
   ],
   "source": [
    "dfs(graph, 1)"
   ]
  },
  {
   "cell_type": "code",
   "execution_count": 52,
   "id": "4793a9c2",
   "metadata": {},
   "outputs": [],
   "source": [
    "for i in range(numCourses):   # visit all trees in graph\n",
    "    if not visited[i]:\n",
    "        visited[i] = True\n",
    "    if not dfs(graph,i): \n",
    "        print([])"
   ]
  },
  {
   "cell_type": "code",
   "execution_count": 53,
   "id": "4c977204",
   "metadata": {},
   "outputs": [
    {
     "data": {
      "text/plain": [
       "[True, True, True, True]"
      ]
     },
     "execution_count": 53,
     "metadata": {},
     "output_type": "execute_result"
    }
   ],
   "source": [
    "visited"
   ]
  },
  {
   "cell_type": "code",
   "execution_count": 54,
   "id": "8bc68a02",
   "metadata": {},
   "outputs": [
    {
     "data": {
      "text/plain": [
       "[3, 1, 2, 0, 1, 2, 3]"
      ]
     },
     "execution_count": 54,
     "metadata": {},
     "output_type": "execute_result"
    }
   ],
   "source": [
    "finished"
   ]
  }
 ],
 "metadata": {
  "kernelspec": {
   "display_name": "Python 3 (ipykernel)",
   "language": "python",
   "name": "python3"
  },
  "language_info": {
   "codemirror_mode": {
    "name": "ipython",
    "version": 3
   },
   "file_extension": ".py",
   "mimetype": "text/x-python",
   "name": "python",
   "nbconvert_exporter": "python",
   "pygments_lexer": "ipython3",
   "version": "3.9.7"
  }
 },
 "nbformat": 4,
 "nbformat_minor": 5
}
