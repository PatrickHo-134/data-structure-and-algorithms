{
 "cells": [
  {
   "cell_type": "markdown",
   "id": "6b4853bd",
   "metadata": {},
   "source": [
    "## Problem description\n",
    "\n",
    "Given an `m x n` 2D binary grid `grid` which represents a map of `'1'`s (land) and `'0'`s (water), return the number of islands.\n",
    "\n",
    "An island is surrounded by water and is formed by connecting adjacent lands horizontally or vertically. You may assume all four edges of the grid are all surrounded by water.\n",
    "\n",
    " \n",
    "\n",
    "### Example 1:\n",
    "\n",
    "    Input: grid = [\n",
    "      [\"1\",\"1\",\"1\",\"1\",\"0\"],\n",
    "      [\"1\",\"1\",\"0\",\"1\",\"0\"],\n",
    "      [\"1\",\"1\",\"0\",\"0\",\"0\"],\n",
    "      [\"0\",\"0\",\"0\",\"0\",\"0\"]\n",
    "    ]\n",
    "    \n",
    "    Output: 1\n",
    "\n",
    "\n",
    "### Example 2:\n",
    "\n",
    "    Input: grid = [\n",
    "      [\"1\",\"1\",\"0\",\"0\",\"0\"],\n",
    "      [\"1\",\"1\",\"0\",\"0\",\"0\"],\n",
    "      [\"0\",\"0\",\"1\",\"0\",\"0\"],\n",
    "      [\"0\",\"0\",\"0\",\"1\",\"1\"]\n",
    "    ]\n",
    "    \n",
    "    Output: 3\n",
    " \n",
    "\n",
    "### Constraints:\n",
    "\n",
    "- `m == grid.length`\n",
    "- `n == grid[i].length`\n",
    "- `1 <= m, n <= 300`\n",
    "- `grid[i][j]` is `'0'` or `'1'`"
   ]
  },
  {
   "cell_type": "markdown",
   "id": "0a1e7991",
   "metadata": {},
   "source": [
    "## Intuition\n",
    "\n",
    "The core approach involves the following steps:\n",
    "\n",
    "- Iterate over each cell of the grid.\n",
    "- When a cell with value '1' is found, increment our island count as we've discovered a new island.\n",
    "- Initiate a DFS from that cell, changing all connected '1's (i.e., the entire island) to '0's to mark them as visited.\n",
    "- Continue the grid scan until all cells are processed."
   ]
  },
  {
   "cell_type": "markdown",
   "id": "d09d707f",
   "metadata": {},
   "source": [
    "## Solution\n",
    "1. Define a nested function called `dfs` inside the `numIslands` method which takes the grid coordinates (i, j) of a cell as parameters. This function will be used to perform the DFS from a given starting cell that is part of an island.\n",
    "\n",
    "2. The `dfs` function first sets the current cell's value to '0' to mark it as visited. This prevents the same land from being counted again when iterating over other parts of the grid.\n",
    "\n",
    "3. Then, for each adjacent direction defined by `dirs` (which are the four possible movements: up, down, left, and right), the `dfs` function calculates the adjacent cell's coordinates (x, y).\n",
    "\n",
    "4. If the adjacent cell **(x, y)** is within the grid boundaries **(0 <= x < m and 0 <= y < n)** and it's a '1' (land), the `dfs` function is recursively called for this new cell.\n",
    "\n",
    "5. Outside of the `dfs` function, the main part of the numIslands method initializes an `ans` counter to keep track of the number of islands found.\n",
    "\n",
    "6. The variable `dirs` is a tuple containing the directions used in the DFS to traverse the grid in a cyclic order. By using `pairwise(dirs)`, we always get a pair of directions that represent a straight line movement (either horizontal or vertical) without diagonal moves.\n",
    "\n",
    "7. We iterate over each cell of the grid using a nested loop. When we encounter a '1', we call the `dfs` function on that cell, marking the entire connected area, and then increment the `ans` counter since we have identified an entire island.\n",
    "\n",
    "8. At the end of the nested loops, we have traversed the entire grid and recursively visited all connected '1's, marking them as '0's, thus avoiding multiple counts of the same land.\n",
    "\n",
    "9. The `ans` variable now contains the total number of islands, which is returned as the final answer."
   ]
  },
  {
   "cell_type": "code",
   "execution_count": 76,
   "id": "b93f21d3",
   "metadata": {},
   "outputs": [],
   "source": [
    "def get_next_coordinates(x,y, grid):\n",
    "    max_row = len(grid)\n",
    "    max_col = len(grid[0])\n",
    "    \n",
    "    dirs = []\n",
    "    \n",
    "    if x-1 >= 0:\n",
    "        dirs += [(x-1, y)]\n",
    "    \n",
    "    if y-1 >= 0:\n",
    "        dirs += [(x, y-1)]\n",
    "    \n",
    "    if x + 1 < max_row:\n",
    "        dirs += [(x+1, y)]\n",
    "    \n",
    "    if y + 1 < max_col:\n",
    "        dirs += [(x, y+1)]\n",
    "        \n",
    "    return dirs\n",
    "\n",
    "def is_land(position):\n",
    "    return position == \"1\""
   ]
  },
  {
   "cell_type": "code",
   "execution_count": 78,
   "id": "1c8277a3",
   "metadata": {},
   "outputs": [],
   "source": [
    "def dfs(row, col, grid):\n",
    "    grid[row][col] = \"0\"\n",
    "    \n",
    "    next_positions = get_next_coordinates(row, col, grid)\n",
    "    \n",
    "    for x, y in next_positions:\n",
    "        if is_land(grid[x][y]):\n",
    "#             print((x,y))\n",
    "            dfs(x,y, grid)"
   ]
  },
  {
   "cell_type": "code",
   "execution_count": 88,
   "id": "195ae462",
   "metadata": {},
   "outputs": [],
   "source": [
    "def numIslands(grid):\n",
    "    island_count = 0\n",
    "    max_row = len(grid)\n",
    "    max_col = len(grid[0])\n",
    "\n",
    "    for row in range(max_row):\n",
    "        for col in range(max_col):\n",
    "            if is_land(grid[row][col]):\n",
    "                dfs(row, col, grid)\n",
    "                island_count += 1\n",
    "\n",
    "    return island_count"
   ]
  },
  {
   "cell_type": "code",
   "execution_count": 90,
   "id": "7ee9ac0a",
   "metadata": {},
   "outputs": [
    {
     "name": "stdout",
     "output_type": "stream",
     "text": [
      "(1, 0)\n",
      "(2, 0)\n",
      "(2, 1)\n",
      "(1, 1)\n",
      "(0, 1)\n",
      "(0, 2)\n",
      "(0, 3)\n",
      "(1, 3)\n"
     ]
    },
    {
     "data": {
      "text/plain": [
       "True"
      ]
     },
     "execution_count": 90,
     "metadata": {},
     "output_type": "execute_result"
    }
   ],
   "source": [
    "test1 = [\n",
    "    [\"1\",\"1\",\"1\",\"1\",\"0\"],\n",
    "    [\"1\",\"1\",\"0\",\"1\",\"0\"],\n",
    "    [\"1\",\"1\",\"0\",\"0\",\"0\"],\n",
    "    [\"0\",\"0\",\"0\",\"0\",\"0\"]\n",
    "]\n",
    "numIslands(test1) == 1"
   ]
  },
  {
   "cell_type": "code",
   "execution_count": 91,
   "id": "6c8f7e4e",
   "metadata": {},
   "outputs": [
    {
     "name": "stdout",
     "output_type": "stream",
     "text": [
      "(1, 0)\n",
      "(1, 1)\n",
      "(0, 1)\n",
      "(3, 4)\n"
     ]
    },
    {
     "data": {
      "text/plain": [
       "True"
      ]
     },
     "execution_count": 91,
     "metadata": {},
     "output_type": "execute_result"
    }
   ],
   "source": [
    "test2 = [\n",
    "         [\"1\",\"1\",\"0\",\"0\",\"0\"],\n",
    "         [\"1\",\"1\",\"0\",\"0\",\"0\"],\n",
    "         [\"0\",\"0\",\"1\",\"0\",\"0\"],\n",
    "         [\"0\",\"0\",\"0\",\"1\",\"1\"]\n",
    "]\n",
    "\n",
    "numIslands(test2) == 3"
   ]
  },
  {
   "cell_type": "markdown",
   "id": "d78c4ba9",
   "metadata": {},
   "source": [
    "## Time Complexity\n",
    "\n",
    "The time complexity of the code is `O(m * n)`, where `m` is the number of rows in the grid, and `n` is the number of columns. This is because the algorithm must visit each cell in the entire grid once to ensure all parts of the islands are counted and marked. The DFS search is invoked for each land cell (`'1'`) that hasn't yet been visited, and it traverses all its adjacent land cells. Although the outer loop runs for `m * n` iterations, each cell is visited once by the DFS, ensuring that the overall time complexity remains linear concerning the total number of cells.\n",
    "\n",
    "## Space Complexity\n",
    "\n",
    "The space complexity is `O(m * n)` in the worst case. This worst-case scenario occurs when the grid is filled with land cells (`'1'`), where the depth of the recursion stack (DFS) potentially equals the total number of cells in the grid if we are dealing with one large island. Since the DFS can go as deep as the largest island, and in this case, that's the entire grid, the stack space used by the recursion is proportionate to the total number of cells."
   ]
  }
 ],
 "metadata": {
  "kernelspec": {
   "display_name": "Python 3 (ipykernel)",
   "language": "python",
   "name": "python3"
  },
  "language_info": {
   "codemirror_mode": {
    "name": "ipython",
    "version": 3
   },
   "file_extension": ".py",
   "mimetype": "text/x-python",
   "name": "python",
   "nbconvert_exporter": "python",
   "pygments_lexer": "ipython3",
   "version": "3.9.7"
  }
 },
 "nbformat": 4,
 "nbformat_minor": 5
}
