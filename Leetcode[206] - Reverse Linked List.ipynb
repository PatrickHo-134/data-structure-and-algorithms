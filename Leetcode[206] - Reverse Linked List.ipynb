{
 "cells": [
  {
   "cell_type": "markdown",
   "id": "4dae4970",
   "metadata": {},
   "source": [
    "# Description\n",
    "\n",
    "Given the head of a singly linked list, reverse the list, and return the reversed list.\n",
    "\n",
    "Example:\n",
    "\n",
    " 1 -> 2 -> 3 -> 4 -> 5\n",
    " \n",
    " 5 -> 4 -> 3 -> 2 -> 1"
   ]
  },
  {
   "cell_type": "code",
   "execution_count": 3,
   "id": "a28bc3f5",
   "metadata": {},
   "outputs": [],
   "source": [
    "# Definition for singly-linked list.\n",
    "class ListNode:\n",
    "    def __init__(self, val=0, next=None):\n",
    "        self.val = val\n",
    "        self.next = next\n",
    "\n",
    "class Solution:\n",
    "    def reverseList(self, head):\n",
    "        new_list = None\n",
    "        current = head\n",
    "\n",
    "        while current:\n",
    "            next_node = current.next\n",
    "            current.next = new_list\n",
    "            new_list = current\n",
    "            current = next_node\n",
    "\n",
    "        return new_list"
   ]
  },
  {
   "cell_type": "code",
   "execution_count": 4,
   "id": "d4b583a6",
   "metadata": {},
   "outputs": [],
   "source": [
    "head = [1,2,3,4,5]\n"
   ]
  },
  {
   "cell_type": "code",
   "execution_count": null,
   "id": "75274216",
   "metadata": {},
   "outputs": [],
   "source": [
    "def reverse_list_node(listnode):\n",
    "    "
   ]
  },
  {
   "cell_type": "code",
   "execution_count": null,
   "id": "a37d35ee",
   "metadata": {},
   "outputs": [],
   "source": []
  },
  {
   "cell_type": "markdown",
   "id": "ffab272f",
   "metadata": {},
   "source": [
    "# References:\n",
    "- https://www.youtube.com/watch?v=VtC4GUR31wQ&t=175s&ab_channel=AlgoEngine\n"
   ]
  }
 ],
 "metadata": {
  "kernelspec": {
   "display_name": "Python 3 (ipykernel)",
   "language": "python",
   "name": "python3"
  },
  "language_info": {
   "codemirror_mode": {
    "name": "ipython",
    "version": 3
   },
   "file_extension": ".py",
   "mimetype": "text/x-python",
   "name": "python",
   "nbconvert_exporter": "python",
   "pygments_lexer": "ipython3",
   "version": "3.9.7"
  }
 },
 "nbformat": 4,
 "nbformat_minor": 5
}
